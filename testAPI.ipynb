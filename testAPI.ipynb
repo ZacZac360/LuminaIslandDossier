{
 "cells": [
  {
   "cell_type": "code",
   "execution_count": 1,
   "id": "1fe0ead6",
   "metadata": {},
   "outputs": [],
   "source": [
    "import requests\n",
    "import pandas as pd\n",
    "import json\n",
    "\n",
    "API_KEY = 'yC64acO6xj53iW03VTdPX6QZxY5Y7najMElljT50'\n",
    "HEADERS = {'x-api-key': API_KEY}\n"
   ]
  },
  {
   "cell_type": "code",
   "execution_count": 2,
   "id": "482b4f4f",
   "metadata": {},
   "outputs": [],
   "source": [
    "# Load character mapping\n",
    "with open('character_mapping.json', 'r', encoding='utf-8') as f:\n",
    "    character_map = json.load(f)\n",
    "\n",
    "# Load weapon mapping\n",
    "with open('weapon_mapping.json', 'r', encoding='utf-8') as f:\n",
    "    weapon_map = json.load(f)\n",
    "\n",
    "with open('item_mapping.json', 'r', encoding='utf-8') as f:\n",
    "    item_map = json.load(f)\n",
    "    \n",
    "with open('augment_mapping.json', 'r', encoding='utf-8') as f:\n",
    "    augment_map = json.load(f)\n"
   ]
  },
  {
   "cell_type": "code",
   "execution_count": 3,
   "id": "6bafc4c9",
   "metadata": {},
   "outputs": [],
   "source": [
    "game_id = 46678263\n",
    "\n",
    "# Function to get the game data for all players in a game\n",
    "def get_game_data(game_id):\n",
    "    url = f'https://open-api.bser.io/v1/games/{game_id}'\n",
    "    response = requests.get(url, headers=HEADERS)\n",
    "\n",
    "    if response.status_code != 200:\n",
    "        print(f\"Failed to fetch game data: {response.status_code} - {response.text}\")\n",
    "        return None\n",
    "\n",
    "    data = response.json()\n",
    "\n",
    "    # Initialize list to store player data\n",
    "    players_data = []\n",
    "\n",
    "    # Define valid weapon mastery IDs (as strings)\n",
    "    weapon_mastery_ids = {\n",
    "        \"1\", \"2\", \"3\", \"4\", \"5\", \"6\", \"7\", \"8\", \"9\", \"10\", \"11\",\n",
    "        \"12\", \"13\", \"14\", \"15\", \"16\", \"17\", \"18\", \"19\", \"20\",\n",
    "        \"21\", \"22\", \"23\", \"24\", \"25\"\n",
    "    }\n",
    "        \n",
    "    # Iterate through players in the 'userGames' list\n",
    "    for player in data.get('userGames', []):\n",
    "        user_num = player.get('userNum', '')\n",
    "        nickname = player.get('nickname', '')\n",
    "        game_id = player.get('gameId', '')\n",
    "        season_id = player.get('seasonId', '')\n",
    "        game_Rank = player.get('gameRank', '')\n",
    "        character_Num = player.get('characterNum', '')\n",
    "        team_kill = player.get('teamKill','')\n",
    "        kill = player.get('playerKill', '')\n",
    "        death = player.get('playerDeaths', '')\n",
    "        assist = player.get('playerAssistant','')\n",
    "        dmg_player = player.get('damageToPlayer','')\n",
    "        dmg_monster = player.get('damageToMonster','')\n",
    "        \n",
    "\n",
    "        # Get masteryLevel dict\n",
    "        mastery = player.get('masteryLevel', {})\n",
    "        \n",
    "        # Extract weapon mastery ID\n",
    "        weapon_type_id = ''\n",
    "        for mastery_id in mastery:\n",
    "            if mastery_id in weapon_mastery_ids:\n",
    "                weapon_type_id = mastery_id  # Keep as string\n",
    "                break\n",
    "\n",
    "        # Look up readable names\n",
    "        character_name = character_map.get(str(character_Num), f\"Unknown({character_Num})\")\n",
    "        weapon_name = weapon_map.get(weapon_type_id, f\"Unknown({weapon_type_id})\")\n",
    "        \n",
    "        # Get equipment data\n",
    "        equipment = player.get('equipment', {})\n",
    "        item_weapon = item_map.get(str(equipment.get('0', '')), 'Unknown(Weapon)')\n",
    "        item_chest = item_map.get(str(equipment.get('1', '')), 'Unknown(Chest)')\n",
    "        item_head = item_map.get(str(equipment.get('2', '')), 'Unknown(Head)')\n",
    "        item_arm = item_map.get(str(equipment.get('3', '')), 'Unknown(Arm)')\n",
    "        item_leg = item_map.get(str(equipment.get('4', '')), 'Unknown(Leg)')\n",
    "        \n",
    "        # === AUGMENT PARSING ===\n",
    "        first_sub = player.get('traitFirstSub', [])\n",
    "        second_sub = player.get('traitSecondSub', [])\n",
    "\n",
    "        trait_main1 = augment_map.get(str(first_sub[0]), f\"Unknown({first_sub[0]})\") if len(first_sub) > 0 else \"\"\n",
    "        trait_main2 = augment_map.get(str(first_sub[1]), f\"Unknown({first_sub[1]})\") if len(first_sub) > 1 else \"\"\n",
    "        trait_sub1 = augment_map.get(str(second_sub[0]), f\"Unknown({second_sub[0]})\") if len(second_sub) > 0 else \"\"\n",
    "        trait_sub2 = augment_map.get(str(second_sub[1]), f\"Unknown({second_sub[1]})\") if len(second_sub) > 1 else \"\"\n",
    "\n",
    "        # Append player data to the list\n",
    "        players_data.append({\n",
    "            'userNum': user_num,\n",
    "            'nickname': nickname,\n",
    "            'gameId': game_id,\n",
    "            'seasonId': season_id,\n",
    "            'gameRank': game_Rank,\n",
    "            'character': character_name,\n",
    "            'weapon': weapon_name,\n",
    "            'itemWeapon': item_weapon,\n",
    "            'itemChest': item_chest,\n",
    "            'itemHead': item_head,\n",
    "            'itemArm': item_arm,\n",
    "            'itemLeg': item_leg,\n",
    "            'Trait_Main1': trait_main1,\n",
    "            'Trait_Main2': trait_main2,\n",
    "            'Trait_Sub1': trait_sub1,\n",
    "            'Trait_Sub2': trait_sub2,\n",
    "            'TeamKill' : team_kill,\n",
    "            'Kill' : kill,\n",
    "            'Death' : death,\n",
    "            'Assist' : assist,\n",
    "            'Dmg_Player' : dmg_player,\n",
    "            'Dmg_Monster' : dmg_monster\n",
    "        })\n",
    "\n",
    "    return players_data"
   ]
  },
  {
   "cell_type": "code",
   "execution_count": 39,
   "id": "f10ba5d5",
   "metadata": {},
   "outputs": [
    {
     "name": "stdout",
     "output_type": "stream",
     "text": [
      "24\n"
     ]
    }
   ],
   "source": [
    "print(len(players_data))\n"
   ]
  },
  {
   "cell_type": "code",
   "execution_count": 5,
   "id": "8aaa015f",
   "metadata": {},
   "outputs": [],
   "source": [
    "import csv\n",
    "import os\n",
    "\n",
    "def save_players_data_to_csv(players_data, output_file='players_data.csv', mode='append'):\n",
    "    if not players_data:\n",
    "        print(\"No player data to save.\")\n",
    "        return\n",
    "\n",
    "    headers = players_data[0].keys()\n",
    "\n",
    "    if mode == 'replace':\n",
    "        # Replace mode: overwrite the file\n",
    "        file_exists = False\n",
    "    elif mode == 'append':\n",
    "        # Append mode: check if the file exists\n",
    "        file_exists = os.path.isfile(output_file)\n",
    "    else:\n",
    "        print(\"Invalid mode! Use 'append' or 'replace'.\")\n",
    "        return\n",
    "\n",
    "    with open(output_file, 'a' if mode == 'append' else 'w', newline='', encoding='utf-8') as f:\n",
    "        writer = csv.DictWriter(f, fieldnames=headers)\n",
    "        if not file_exists:\n",
    "            writer.writeheader()  # Write headers only if the file is being created\n",
    "        writer.writerows(players_data)\n",
    "\n",
    "    print(f\"Data saved to {output_file} in {mode} mode.\")\n"
   ]
  },
  {
   "cell_type": "code",
   "execution_count": 16,
   "id": "96faca8c",
   "metadata": {},
   "outputs": [
    {
     "ename": "NameError",
     "evalue": "name 'players_data' is not defined",
     "output_type": "error",
     "traceback": [
      "\u001b[1;31m---------------------------------------------------------------------------\u001b[0m",
      "\u001b[1;31mNameError\u001b[0m                                 Traceback (most recent call last)",
      "Cell \u001b[1;32mIn[16], line 1\u001b[0m\n\u001b[1;32m----> 1\u001b[0m save_players_data_to_csv(players_data, mode\u001b[38;5;241m=\u001b[39m\u001b[38;5;124m'\u001b[39m\u001b[38;5;124mappend\u001b[39m\u001b[38;5;124m'\u001b[39m)\n",
      "\u001b[1;31mNameError\u001b[0m: name 'players_data' is not defined"
     ]
    }
   ],
   "source": [
    "save_players_data_to_csv(players_data, mode='append')\n"
   ]
  },
  {
   "cell_type": "code",
   "execution_count": 53,
   "id": "0a4d3cb8",
   "metadata": {},
   "outputs": [
    {
     "name": "stdout",
     "output_type": "stream",
     "text": [
      "Data saved to players_data.csv in replace mode.\n"
     ]
    }
   ],
   "source": [
    "save_players_data_to_csv(players_data, mode='replace')\n"
   ]
  },
  {
   "cell_type": "code",
   "execution_count": null,
   "id": "e531fc8c",
   "metadata": {},
   "outputs": [
    {
     "name": "stdout",
     "output_type": "stream",
     "text": [
      "Data saved to players_data.csv in append mode.\n",
      "Data saved to players_data.csv in append mode.\n"
     ]
    }
   ],
   "source": [
    "import random\n",
    "import time\n",
    "\n",
    "\n",
    "# Function to run the process multiple times with random game IDs within a range\n",
    "def run_multiple_games(start_game_id, end_game_id, num_runs, mode='append'):\n",
    "    for _ in range(num_runs):\n",
    "        # Generate a random game ID within the specified range\n",
    "        game_id = random.randint(start_game_id, end_game_id)\n",
    "        \n",
    "        # Get game data\n",
    "        players_data = get_game_data(game_id)\n",
    "        \n",
    "        # Save to CSV\n",
    "        if players_data:\n",
    "            save_players_data_to_csv(players_data, mode=mode)\n",
    "        \n",
    "        #delay\n",
    "        time.sleep(1)  #ER api is 1 request per second\n",
    "\n",
    "# Example usage\n",
    "run_multiple_games(start_game_id=47181124, end_game_id=47990108, num_runs=2, mode='append')\n"
   ]
  }
 ],
 "metadata": {
  "kernelspec": {
   "display_name": "base",
   "language": "python",
   "name": "python3"
  },
  "language_info": {
   "codemirror_mode": {
    "name": "ipython",
    "version": 3
   },
   "file_extension": ".py",
   "mimetype": "text/x-python",
   "name": "python",
   "nbconvert_exporter": "python",
   "pygments_lexer": "ipython3",
   "version": "3.12.7"
  }
 },
 "nbformat": 4,
 "nbformat_minor": 5
}
