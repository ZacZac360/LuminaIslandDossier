{
 "cells": [
  {
   "cell_type": "code",
   "execution_count": 2,
   "id": "1fe0ead6",
   "metadata": {},
   "outputs": [],
   "source": [
    "import requests\n",
    "import pandas as pd\n",
    "import json\n",
    "\n",
    "API_KEY = 'yC64acO6xj53iW03VTdPX6QZxY5Y7najMElljT50'\n",
    "HEADERS = {'x-api-key': API_KEY}\n"
   ]
  },
  {
   "cell_type": "code",
   "execution_count": 3,
   "id": "482b4f4f",
   "metadata": {},
   "outputs": [],
   "source": [
    "# Load character mapping\n",
    "with open('character_mapping.json', 'r', encoding='utf-8') as f:\n",
    "    character_map = json.load(f)\n",
    "\n",
    "# Load weapon mapping\n",
    "with open('weapon_mapping.json', 'r', encoding='utf-8') as f:\n",
    "    weapon_map = json.load(f)\n",
    "\n",
    "with open('item_mapping.json', 'r', encoding='utf-8') as f:\n",
    "    item_map = json.load(f)\n",
    "    \n",
    "with open('augment_mapping.json', 'r', encoding='utf-8') as f:\n",
    "    augment_map = json.load(f)\n"
   ]
  },
  {
   "cell_type": "code",
   "execution_count": null,
   "id": "6bafc4c9",
   "metadata": {},
   "outputs": [
    {
     "name": "stdout",
     "output_type": "stream",
     "text": [
      "{'userNum': 5359969, 'nickname': '尋風追憶', 'gameId': 46678263, 'seasonId': 31, 'gameRank': 7, 'character': 'Leon', 'weapon': 'Glove', 'itemWeapon': 'Obsidian_Jitte', 'itemChest': 'Covert_Agent_Uniform', 'itemHead': \"Astronaut's_Helmet\", 'itemArm': \"Pharaoh's_Artifact\", 'itemLeg': 'Delta_Red', 'Trait_Main1': 'Open_Wounds', 'Trait_Main2': 'Overwatch', 'Trait_Sub1': 'Dismantle_Goliath', 'Trait_Sub2': 'Anima_Reaper', 'TeamKill': 12, 'Kill': 3, 'Death': 2, 'Assist': 7, 'Dmg_Player': 10909, 'Dmg_Monster': 31758}\n",
      "{'userNum': 5294646, 'nickname': '뎁미니스트', 'gameId': 46678263, 'seasonId': 31, 'gameRank': 5, 'character': 'Debi_&_Marlene', 'weapon': 'Two-handed_Sword', 'itemWeapon': 'Aurora_Longsword', 'itemChest': 'Phantom_Jacket', 'itemHead': 'Commander_Headset', 'itemArm': 'Moonlight_Pendant', 'itemLeg': 'Cowboy_Boots', 'Trait_Main1': 'Camping_Guide', 'Trait_Main2': 'Penny_Pincher', 'Trait_Sub1': 'Embolden', 'Trait_Sub2': \"Dine_n'_Dash\", 'TeamKill': 15, 'Kill': 2, 'Death': 1, 'Assist': 11, 'Dmg_Player': 13044, 'Dmg_Monster': 49417}\n",
      "{'userNum': 4911433, 'nickname': '범지', 'gameId': 46678263, 'seasonId': 31, 'gameRank': 4, 'character': 'Laura', 'weapon': 'Whip', 'itemWeapon': 'Plasma_Whip', 'itemChest': 'Holy_Orders', 'itemHead': 'Imperial_Crown', 'itemArm': 'Tellurian_Timepiece', 'itemLeg': 'Tachyon_Brace', 'Trait_Main1': 'Unwavering_Mentality', 'Trait_Main2': 'Cavalcade', 'Trait_Sub1': 'Coin_Toss', 'Trait_Sub2': 'Penny_Pincher', 'TeamKill': 15, 'Kill': 5, 'Death': 4, 'Assist': 6, 'Dmg_Player': 16738, 'Dmg_Monster': 89521}\n",
      "{'userNum': 4888343, 'nickname': 'ふでペンボルペン', 'gameId': 46678263, 'seasonId': 31, 'gameRank': 8, 'character': 'Rio', 'weapon': 'Bow', 'itemWeapon': 'Twinbow', 'itemChest': 'Optical_Camouflage_Suit', 'itemHead': 'Crystal_Tiara', 'itemArm': 'Radar', 'itemLeg': 'Galaxy_Steps', 'Trait_Main1': 'Dismantle_Goliath', 'Trait_Main2': 'Anima_Reaper', 'Trait_Sub1': 'Coin_Toss', 'Trait_Sub2': 'Penny_Pincher', 'TeamKill': 4, 'Kill': 0, 'Death': 3, 'Assist': 4, 'Dmg_Player': 5671, 'Dmg_Monster': 23839}\n",
      "{'userNum': 4508148, 'nickname': '리퐁남', 'gameId': 46678263, 'seasonId': 31, 'gameRank': 5, 'character': 'Abigail', 'weapon': 'Axe', 'itemWeapon': 'Beam_Axe', 'itemChest': 'The_Revenant', 'itemHead': 'Persona', 'itemArm': 'Nightmare_Nails', 'itemLeg': 'Glacier_Crampons', 'Trait_Main1': 'Stopping_Power', 'Trait_Main2': 'Overwatch', 'Trait_Sub1': 'Embolden', 'Trait_Sub2': 'Cavalcade', 'TeamKill': 15, 'Kill': 8, 'Death': 3, 'Assist': 5, 'Dmg_Player': 24112, 'Dmg_Monster': 31500}\n",
      "{'userNum': 4447093, 'nickname': '해분', 'gameId': 46678263, 'seasonId': 31, 'gameRank': 3, 'character': 'Vanya', 'weapon': 'Arcana', 'itemWeapon': 'The_Star', 'itemChest': 'Holy_Orders', 'itemHead': 'Fencing_Mask', 'itemArm': 'Tindalos_Monarch', 'itemLeg': 'Straitjacket_Sneakers', 'Trait_Main1': 'Frenzy', 'Trait_Main2': 'Anima_Reaper', 'Trait_Sub1': 'Embolden', 'Trait_Sub2': \"Dine_n'_Dash\", 'TeamKill': 14, 'Kill': 7, 'Death': 2, 'Assist': 3, 'Dmg_Player': 18071, 'Dmg_Monster': 92388}\n",
      "{'userNum': 4329314, 'nickname': '리다이린개백수', 'gameId': 46678263, 'seasonId': 31, 'gameRank': 2, 'character': 'Isaac', 'weapon': 'Tonfa', 'itemWeapon': 'Holster_Tonfa', 'itemChest': 'Turnout_Coat', 'itemHead': 'Crusader_Helmet', 'itemArm': 'Smart_Band', 'itemLeg': 'White_Rhinos', 'Trait_Main1': 'Embolden', 'Trait_Main2': \"Dine_n'_Dash\", 'Trait_Sub1': 'Stopping_Power', 'Trait_Sub2': 'Overwatch', 'TeamKill': 6, 'Kill': 1, 'Death': 6, 'Assist': 5, 'Dmg_Player': 10121, 'Dmg_Monster': 9373}\n",
      "{'userNum': 4230361, 'nickname': '존잘민재', 'gameId': 46678263, 'seasonId': 31, 'gameRank': 1, 'character': 'Kenneth', 'weapon': 'Axe', 'itemWeapon': 'Scarlet_Scythe_-_Crimson', 'itemChest': 'Omertà', 'itemHead': 'The_Star_of_the_Wilds', 'itemArm': 'Auto-arms', 'itemLeg': 'Taproot', 'Trait_Main1': 'Embolden', 'Trait_Main2': 'Cavalcade', 'Trait_Sub1': 'Stopping_Power', 'Trait_Sub2': 'Overwatch', 'TeamKill': 13, 'Kill': 2, 'Death': 5, 'Assist': 7, 'Dmg_Player': 18071, 'Dmg_Monster': 95875}\n",
      "{'userNum': 4156863, 'nickname': 'tlwlsvld', 'gameId': 46678263, 'seasonId': 31, 'gameRank': 2, 'character': 'Vanya', 'weapon': 'Arcana', 'itemWeapon': 'The_Empress', 'itemChest': 'Holy_Orders', 'itemHead': 'Vigilante', 'itemArm': 'Tindalos_Band', 'itemLeg': 'Hiking_Boots', 'Trait_Main1': 'Frenzy', 'Trait_Main2': 'Anima_Reaper', 'Trait_Sub1': 'Painkiller', 'Trait_Sub2': \"Dine_n'_Dash\", 'TeamKill': 6, 'Kill': 1, 'Death': 5, 'Assist': 4, 'Dmg_Player': 12827, 'Dmg_Monster': 108285}\n",
      "{'userNum': 3865545, 'nickname': '원탄', 'gameId': 46678263, 'seasonId': 31, 'gameRank': 6, 'character': 'Hisui', 'weapon': 'Two-handed_Sword', 'itemWeapon': 'Aurora_Longsword', 'itemChest': 'Changpao', 'itemHead': 'Welding_Helmet', 'itemArm': 'Plasma_Arc', 'itemLeg': 'Mythril_Boots', 'Trait_Main1': 'Contempt_for_the_Weak', 'Trait_Main2': 'Anima_Reaper', 'Trait_Sub1': 'Unwavering_Mentality', 'Trait_Sub2': 'Cavalcade', 'TeamKill': 7, 'Kill': 5, 'Death': 5, 'Assist': 1, 'Dmg_Player': 12612, 'Dmg_Monster': 30042}\n",
      "{'userNum': 3864980, 'nickname': '수아련', 'gameId': 46678263, 'seasonId': 31, 'gameRank': 6, 'character': 'Lenore', 'weapon': 'Guitar', 'itemWeapon': \"Heaven's_Door\", 'itemChest': 'Cardinal_Robes', 'itemHead': 'Blood_Crown', 'itemArm': 'Tindalos_Band', 'itemLeg': 'Straitjacket_Sneakers', 'Trait_Main1': 'Stopping_Power', 'Trait_Main2': 'Power_Crescendo', 'Trait_Sub1': 'Dismantle_Goliath', 'Trait_Sub2': 'Anima_Reaper', 'TeamKill': 7, 'Kill': 2, 'Death': 4, 'Assist': 2, 'Dmg_Player': 12219, 'Dmg_Monster': 48139}\n",
      "{'userNum': 3244143, 'nickname': 'Dakzk', 'gameId': 46678263, 'seasonId': 31, 'gameRank': 8, 'character': 'Debi_&_Marlene', 'weapon': 'Two-handed_Sword', 'itemWeapon': 'Excalibur', 'itemChest': 'Phantom_Jacket', 'itemHead': 'Commander_Headset', 'itemArm': 'Moonlight_Pendant', 'itemLeg': 'Wild_Walkers', 'Trait_Main1': 'Camping_Guide', 'Trait_Main2': 'Penny_Pincher', 'Trait_Sub1': 'Embolden', 'Trait_Sub2': 'Cavalcade', 'TeamKill': 4, 'Kill': 4, 'Death': 2, 'Assist': 0, 'Dmg_Player': 6731, 'Dmg_Monster': 23039}\n",
      "{'userNum': 2161429, 'nickname': 'choigy2', 'gameId': 46678263, 'seasonId': 31, 'gameRank': 3, 'character': 'Li Dailin', 'weapon': 'Glove', 'itemWeapon': 'Mark_of_the_Phoenix', 'itemChest': 'Guardian_Suit', 'itemHead': 'Elysian_Halo', 'itemArm': 'Shield_of_Kings', 'itemLeg': 'EOD_Boots', 'Trait_Main1': 'Coin_Toss', 'Trait_Main2': 'Penny_Pincher', 'Trait_Sub1': 'Painkiller', 'Trait_Sub2': 'Cavalcade', 'TeamKill': 14, 'Kill': 2, 'Death': 4, 'Assist': 9, 'Dmg_Player': 9732, 'Dmg_Monster': 43594}\n",
      "{'userNum': 1475617, 'nickname': '反社員池崎', 'gameId': 46678263, 'seasonId': 31, 'gameRank': 7, 'character': 'Alonso', 'weapon': 'Glove', 'itemWeapon': 'Divine_Fist', 'itemChest': 'Guardian_Suit', 'itemHead': 'Helm_of_Banneret', 'itemArm': 'Solar_System_Miniature', 'itemLeg': 'Tachyon_Brace', 'Trait_Main1': 'Thorn_Shackles', 'Trait_Main2': 'Penny_Pincher', 'Trait_Sub1': 'Painkiller', 'Trait_Sub2': 'Cavalcade', 'TeamKill': 12, 'Kill': 1, 'Death': 3, 'Assist': 6, 'Dmg_Player': 6252, 'Dmg_Monster': 22349}\n",
      "{'userNum': 1254685, 'nickname': 'b283h58', 'gameId': 46678263, 'seasonId': 31, 'gameRank': 8, 'character': 'Emma', 'weapon': 'Shuriken', 'itemWeapon': 'Wind_and_Fire_Wheels', 'itemChest': 'Blood_Cloak', 'itemHead': 'Persona', 'itemArm': 'Tindalos_Band', 'itemLeg': 'Straitjacket_Sneakers', 'Trait_Main1': 'Circular_System', 'Trait_Main2': 'Power_Crescendo', 'Trait_Sub1': 'Dismantle_Goliath', 'Trait_Sub2': 'Anima_Reaper', 'TeamKill': 4, 'Kill': 0, 'Death': 1, 'Assist': 4, 'Dmg_Player': 7265, 'Dmg_Monster': 54223}\n",
      "{'userNum': 878791, 'nickname': '바라자크', 'gameId': 46678263, 'seasonId': 31, 'gameRank': 4, 'character': 'Luke', 'weapon': 'Bat', 'itemWeapon': 'Statue_of_Soteria', 'itemChest': 'Tactical_Armor', 'itemHead': 'Tactical_OPS_Helmet', 'itemArm': 'Bloodripper', 'itemLeg': 'Blade_Boots', 'Trait_Main1': 'Painkiller', 'Trait_Main2': 'Cavalcade', 'Trait_Sub1': 'Frenzy', 'Trait_Sub2': 'Anima_Reaper', 'TeamKill': 15, 'Kill': 6, 'Death': 3, 'Assist': 7, 'Dmg_Player': 16746, 'Dmg_Monster': 28636}\n",
      "{'userNum': 875325, 'nickname': '한국예술종합학고', 'gameId': 46678263, 'seasonId': 31, 'gameRank': 4, 'character': 'Rio', 'weapon': 'Bow', 'itemWeapon': 'Failnaught_-_Crimson', 'itemChest': 'Ghillie_Suit', 'itemHead': 'Legatus', 'itemArm': 'Vital_Sign_Sensor', 'itemLeg': 'Galaxy_Steps', 'Trait_Main1': 'Dismantle_Goliath', 'Trait_Main2': 'Anima_Reaper', 'Trait_Sub1': 'Stopping_Power', 'Trait_Sub2': 'Power_Crescendo', 'TeamKill': 15, 'Kill': 4, 'Death': 1, 'Assist': 7, 'Dmg_Player': 23217, 'Dmg_Monster': 58479}\n",
      "{'userNum': 831849, 'nickname': '바나나헌터', 'gameId': 46678263, 'seasonId': 31, 'gameRank': 7, 'character': 'Nathapon', 'weapon': 'Camera', 'itemWeapon': 'Ultraviolet', 'itemChest': 'Elegant_Gown', 'itemHead': 'Cyberstalker', 'itemArm': \"Pharaoh's_Artifact\", 'itemLeg': 'Glacial_Shoes', 'Trait_Main1': 'Dismantle_Goliath', 'Trait_Main2': 'Anima_Reaper', 'Trait_Sub1': 'Stopping_Power', 'Trait_Sub2': 'R_echarger', 'TeamKill': 12, 'Kill': 8, 'Death': 2, 'Assist': 4, 'Dmg_Player': 18845, 'Dmg_Monster': 59868}\n",
      "{'userNum': 818271, 'nickname': '여자가웃기면', 'gameId': 46678263, 'seasonId': 31, 'gameRank': 2, 'character': 'Hyunwoo', 'weapon': 'Glove', 'itemWeapon': 'Mark_of_the_Phoenix', 'itemChest': 'Phantom_Jacket', 'itemHead': 'Tactical_Visor', 'itemArm': 'Laced_Quiver', 'itemLeg': 'Blade_Boots', 'Trait_Main1': 'Frenzy', 'Trait_Main2': 'Carnivore', 'Trait_Sub1': 'Embolden', 'Trait_Sub2': \"Dine_n'_Dash\", 'TeamKill': 6, 'Kill': 4, 'Death': 5, 'Assist': 2, 'Dmg_Player': 9747, 'Dmg_Monster': 94002}\n",
      "{'userNum': 757770, 'nickname': '25March', 'gameId': 46678263, 'seasonId': 31, 'gameRank': 8, 'character': 'Li Dailin', 'weapon': 'Glove', 'itemWeapon': 'One_Inch_Punch', 'itemChest': 'Sunset_Armor', 'itemHead': 'Helm_of_Banneret', 'itemArm': 'Music_Box', 'itemLeg': 'Maverick_Runner', 'Trait_Main1': 'Camping_Guide', 'Trait_Main2': 'Penny_Pincher', 'Trait_Sub1': 'Unwavering_Mentality', 'Trait_Sub2': 'Steadfast', 'TeamKill': 7, 'Kill': 0, 'Death': 6, 'Assist': 4, 'Dmg_Player': 7090, 'Dmg_Monster': 8260}\n",
      "{'userNum': 699963, 'nickname': '김준식이될남자', 'gameId': 46678263, 'seasonId': 31, 'gameRank': 5, 'character': 'Katja', 'weapon': 'Sniper_Rifle', 'itemWeapon': 'Widow_Maker', 'itemChest': 'Specter', 'itemHead': 'Blaster_Helmet', 'itemArm': 'Dice_of_Destiny', 'itemLeg': 'Racing_Boots', 'Trait_Main1': 'Dismantle_Goliath', 'Trait_Main2': 'Anima_Reaper', 'Trait_Sub1': 'Coin_Toss', 'Trait_Sub2': 'Penny_Pincher', 'TeamKill': 15, 'Kill': 5, 'Death': 2, 'Assist': 5, 'Dmg_Player': 17343, 'Dmg_Monster': 51897}\n",
      "{'userNum': 222710, 'nickname': 'kerupi', 'gameId': 46678263, 'seasonId': 31, 'gameRank': 1, 'character': 'Lenore', 'weapon': 'Guitar', 'itemWeapon': \"Heaven's_Door\", 'itemChest': 'Blood_Cloak', 'itemHead': \"Sultan's_Turban\", 'itemArm': 'Dragon_Scale', 'itemLeg': 'Rose_Steps', 'Trait_Main1': 'Stopping_Power', 'Trait_Main2': 'Power_Crescendo', 'Trait_Sub1': 'Dismantle_Goliath', 'Trait_Sub2': 'Anima_Reaper', 'TeamKill': 13, 'Kill': 6, 'Death': 3, 'Assist': 4, 'Dmg_Player': 16053, 'Dmg_Monster': 65192}\n",
      "{'userNum': 162253, 'nickname': 'Peace', 'gameId': 46678263, 'seasonId': 31, 'gameRank': 3, 'character': 'Chiara', 'weapon': 'Rapier', 'itemWeapon': 'Eye_of_Argos', 'itemChest': 'High_Priest_Robes', 'itemHead': 'Imperial_Burgonet', 'itemArm': 'Tindalos_Monarch', 'itemLeg': 'Steel_Knee_Pads', 'Trait_Main1': 'Thrill_of_the_Hunt', 'Trait_Main2': 'Penny_Pincher', 'Trait_Sub1': 'Embolden', 'Trait_Sub2': 'Cavalcade', 'TeamKill': 14, 'Kill': 5, 'Death': 4, 'Assist': 8, 'Dmg_Player': 21323, 'Dmg_Monster': 77074}\n",
      "{'userNum': 56885, 'nickname': 'Rilakid', 'gameId': 46678263, 'seasonId': 31, 'gameRank': 1, 'character': 'Hart', 'weapon': 'Guitar', 'itemWeapon': 'Heartbreaker_-_Crimson', 'itemChest': 'Specter', 'itemHead': 'Blaster_Helmet', 'itemArm': 'Dice_of_Destiny', 'itemLeg': 'Racing_Boots', 'Trait_Main1': 'Dismantle_Goliath', 'Trait_Main2': 'Carnivore', 'Trait_Sub1': 'Stopping_Power', 'Trait_Sub2': 'Power_Crescendo', 'TeamKill': 13, 'Kill': 5, 'Death': 5, 'Assist': 4, 'Dmg_Player': 19210, 'Dmg_Monster': 119376}\n"
     ]
    }
   ],
   "source": [
    "game_id = 46678263\n",
    "\n",
    "# Function to get the game data for all players in a game\n",
    "def get_game_data(game_id):\n",
    "    url = f'https://open-api.bser.io/v1/games/{game_id}'\n",
    "    response = requests.get(url, headers=HEADERS)\n",
    "\n",
    "    if response.status_code != 200:\n",
    "        print(f\"Failed to fetch game data: {response.status_code} - {response.text}\")\n",
    "        return None\n",
    "\n",
    "    data = response.json()\n",
    "\n",
    "    # Initialize list to store player data\n",
    "    players_data = []\n",
    "\n",
    "    # Define valid weapon mastery IDs (as strings)\n",
    "    weapon_mastery_ids = {\n",
    "        \"1\", \"2\", \"3\", \"4\", \"5\", \"6\", \"7\", \"8\", \"9\", \"10\", \"11\",\n",
    "        \"12\", \"13\", \"14\", \"15\", \"16\", \"17\", \"18\", \"19\", \"20\",\n",
    "        \"21\", \"22\", \"23\", \"24\", \"25\"\n",
    "    }\n",
    "        \n",
    "    # Iterate through players in the 'userGames' list\n",
    "    for player in data.get('userGames', []):\n",
    "        user_num = player.get('userNum', '')\n",
    "        nickname = player.get('nickname', '')\n",
    "        game_id = player.get('gameId', '')\n",
    "        season_id = player.get('seasonId', '')\n",
    "        game_Rank = player.get('gameRank', '')\n",
    "        character_Num = player.get('characterNum', '')\n",
    "        team_kill = player.get('teamKill','')\n",
    "        kill = player.get('playerKill', '')\n",
    "        death = player.get('playerDeaths', '')\n",
    "        assist = player.get('playerAssistant','')\n",
    "        dmg_player = player.get('damageToPlayer','')\n",
    "        dmg_monster = player.get('damageToMonster','')\n",
    "        \n",
    "\n",
    "        # Get masteryLevel dict\n",
    "        mastery = player.get('masteryLevel', {})\n",
    "        \n",
    "        # Extract weapon mastery ID\n",
    "        weapon_type_id = ''\n",
    "        for mastery_id in mastery:\n",
    "            if mastery_id in weapon_mastery_ids:\n",
    "                weapon_type_id = mastery_id  # Keep as string\n",
    "                break\n",
    "\n",
    "        # Look up readable names\n",
    "        character_name = character_map.get(str(character_Num), f\"Unknown({character_Num})\")\n",
    "        weapon_name = weapon_map.get(weapon_type_id, f\"Unknown({weapon_type_id})\")\n",
    "        \n",
    "        # Get equipment data\n",
    "        equipment = player.get('equipment', {})\n",
    "        item_weapon = item_map.get(str(equipment.get('0', '')), 'Unknown(Weapon)')\n",
    "        item_chest = item_map.get(str(equipment.get('1', '')), 'Unknown(Chest)')\n",
    "        item_head = item_map.get(str(equipment.get('2', '')), 'Unknown(Head)')\n",
    "        item_arm = item_map.get(str(equipment.get('3', '')), 'Unknown(Arm)')\n",
    "        item_leg = item_map.get(str(equipment.get('4', '')), 'Unknown(Leg)')\n",
    "        \n",
    "        # === AUGMENT PARSING ===\n",
    "        first_sub = player.get('traitFirstSub', [])\n",
    "        second_sub = player.get('traitSecondSub', [])\n",
    "\n",
    "        trait_main1 = augment_map.get(str(first_sub[0]), f\"Unknown({first_sub[0]})\") if len(first_sub) > 0 else \"\"\n",
    "        trait_main2 = augment_map.get(str(first_sub[1]), f\"Unknown({first_sub[1]})\") if len(first_sub) > 1 else \"\"\n",
    "        trait_sub1 = augment_map.get(str(second_sub[0]), f\"Unknown({second_sub[0]})\") if len(second_sub) > 0 else \"\"\n",
    "        trait_sub2 = augment_map.get(str(second_sub[1]), f\"Unknown({second_sub[1]})\") if len(second_sub) > 1 else \"\"\n",
    "\n",
    "        # Append player data to the list\n",
    "        players_data.append({\n",
    "            'userNum': user_num,\n",
    "            'nickname': nickname,\n",
    "            'gameId': game_id,\n",
    "            'seasonId': season_id,\n",
    "            'gameRank': game_Rank,\n",
    "            'character': character_name,\n",
    "            'weapon': weapon_name,\n",
    "            'itemWeapon': item_weapon,\n",
    "            'itemChest': item_chest,\n",
    "            'itemHead': item_head,\n",
    "            'itemArm': item_arm,\n",
    "            'itemLeg': item_leg,\n",
    "            'Trait_Main1': trait_main1,\n",
    "            'Trait_Main2': trait_main2,\n",
    "            'Trait_Sub1': trait_sub1,\n",
    "            'Trait_Sub2': trait_sub2,\n",
    "            'TeamKill' : team_kill,\n",
    "            'Kill' : kill,\n",
    "            'Death' : death,\n",
    "            'Assist' : assist,\n",
    "            'Dmg_Player' : dmg_player,\n",
    "            'Dmg_Monster' : dmg_monster\n",
    "        })\n",
    "\n",
    "    return players_data"
   ]
  },
  {
   "cell_type": "code",
   "execution_count": 7,
   "id": "e531fc8c",
   "metadata": {},
   "outputs": [
    {
     "ename": "NameError",
     "evalue": "name 'get_game_data' is not defined",
     "output_type": "error",
     "traceback": [
      "\u001b[1;31m---------------------------------------------------------------------------\u001b[0m",
      "\u001b[1;31mNameError\u001b[0m                                 Traceback (most recent call last)",
      "Cell \u001b[1;32mIn[7], line 22\u001b[0m\n\u001b[0;32m     19\u001b[0m         time\u001b[38;5;241m.\u001b[39msleep(\u001b[38;5;241m1\u001b[39m)  \u001b[38;5;66;03m# Delay in seconds, can be adjusted\u001b[39;00m\n\u001b[0;32m     21\u001b[0m \u001b[38;5;66;03m# Example usage\u001b[39;00m\n\u001b[1;32m---> 22\u001b[0m run_multiple_games(start_game_id\u001b[38;5;241m=\u001b[39m\u001b[38;5;241m46678000\u001b[39m, end_game_id\u001b[38;5;241m=\u001b[39m\u001b[38;5;241m46679000\u001b[39m, num_runs\u001b[38;5;241m=\u001b[39m\u001b[38;5;241m3\u001b[39m, mode\u001b[38;5;241m=\u001b[39m\u001b[38;5;124m'\u001b[39m\u001b[38;5;124mappend\u001b[39m\u001b[38;5;124m'\u001b[39m)\n",
      "Cell \u001b[1;32mIn[7], line 12\u001b[0m, in \u001b[0;36mrun_multiple_games\u001b[1;34m(start_game_id, end_game_id, num_runs, mode)\u001b[0m\n\u001b[0;32m      9\u001b[0m game_id \u001b[38;5;241m=\u001b[39m random\u001b[38;5;241m.\u001b[39mrandint(start_game_id, end_game_id)\n\u001b[0;32m     11\u001b[0m \u001b[38;5;66;03m# Get game data\u001b[39;00m\n\u001b[1;32m---> 12\u001b[0m players_data \u001b[38;5;241m=\u001b[39m get_game_data(game_id)\n\u001b[0;32m     14\u001b[0m \u001b[38;5;66;03m# Save to CSV\u001b[39;00m\n\u001b[0;32m     15\u001b[0m \u001b[38;5;28;01mif\u001b[39;00m players_data:\n",
      "\u001b[1;31mNameError\u001b[0m: name 'get_game_data' is not defined"
     ]
    }
   ],
   "source": [
    "import random\n",
    "import time\n",
    "\n",
    "\n",
    "# Function to run the process multiple times with random game IDs within a range\n",
    "def run_multiple_games(start_game_id, end_game_id, num_runs, mode='append'):\n",
    "    for _ in range(num_runs):\n",
    "        # Generate a random game ID within the specified range\n",
    "        game_id = random.randint(start_game_id, end_game_id)\n",
    "        \n",
    "        # Get game data\n",
    "        players_data = get_game_data(game_id)\n",
    "        \n",
    "        # Save to CSV\n",
    "        if players_data:\n",
    "            save_players_data_to_csv(players_data, mode=mode)\n",
    "        \n",
    "        # Optionally, add a delay between requests to avoid overloading the API or getting blocked\n",
    "        time.sleep(1)  # Delay in seconds, can be adjusted\n",
    "\n",
    "# Example usage\n",
    "run_multiple_games(start_game_id=46678000, end_game_id=46679000, num_runs=3, mode='append')\n"
   ]
  },
  {
   "cell_type": "code",
   "execution_count": 39,
   "id": "f10ba5d5",
   "metadata": {},
   "outputs": [
    {
     "name": "stdout",
     "output_type": "stream",
     "text": [
      "24\n"
     ]
    }
   ],
   "source": [
    "print(len(players_data))\n"
   ]
  },
  {
   "cell_type": "code",
   "execution_count": 64,
   "id": "8aaa015f",
   "metadata": {},
   "outputs": [],
   "source": [
    "import csv\n",
    "import os\n",
    "\n",
    "def save_players_data_to_csv(players_data, output_file='players_data.csv', mode='append'):\n",
    "    if not players_data:\n",
    "        print(\"No player data to save.\")\n",
    "        return\n",
    "\n",
    "    headers = players_data[0].keys()\n",
    "\n",
    "    if mode == 'replace':\n",
    "        # Replace mode: overwrite the file\n",
    "        file_exists = False\n",
    "    elif mode == 'append':\n",
    "        # Append mode: check if the file exists\n",
    "        file_exists = os.path.isfile(output_file)\n",
    "    else:\n",
    "        print(\"Invalid mode! Use 'append' or 'replace'.\")\n",
    "        return\n",
    "\n",
    "    with open(output_file, 'a' if mode == 'append' else 'w', newline='', encoding='utf-8') as f:\n",
    "        writer = csv.DictWriter(f, fieldnames=headers)\n",
    "        if not file_exists:\n",
    "            writer.writeheader()  # Write headers only if the file is being created\n",
    "        writer.writerows(players_data)\n",
    "\n",
    "    print(f\"Data saved to {output_file} in {mode} mode.\")\n"
   ]
  },
  {
   "cell_type": "code",
   "execution_count": null,
   "id": "96faca8c",
   "metadata": {},
   "outputs": [
    {
     "name": "stdout",
     "output_type": "stream",
     "text": [
      "Data saved to players_data.csv in append mode.\n"
     ]
    }
   ],
   "source": [
    "save_players_data_to_csv(players_data, mode='append')\n"
   ]
  },
  {
   "cell_type": "code",
   "execution_count": 53,
   "id": "0a4d3cb8",
   "metadata": {},
   "outputs": [
    {
     "name": "stdout",
     "output_type": "stream",
     "text": [
      "Data saved to players_data.csv in replace mode.\n"
     ]
    }
   ],
   "source": [
    "save_players_data_to_csv(players_data, mode='replace')\n"
   ]
  },
  {
   "cell_type": "code",
   "execution_count": 4,
   "id": "a6be3fce",
   "metadata": {},
   "outputs": [
    {
     "ename": "NameError",
     "evalue": "name 'get_game_data' is not defined",
     "output_type": "error",
     "traceback": [
      "\u001b[1;31m---------------------------------------------------------------------------\u001b[0m",
      "\u001b[1;31mNameError\u001b[0m                                 Traceback (most recent call last)",
      "Cell \u001b[1;32mIn[4], line 21\u001b[0m\n\u001b[0;32m     18\u001b[0m         time\u001b[38;5;241m.\u001b[39msleep(\u001b[38;5;241m1\u001b[39m)  \u001b[38;5;66;03m# Delay in seconds, can be adjusted\u001b[39;00m\n\u001b[0;32m     20\u001b[0m \u001b[38;5;66;03m# Example usage\u001b[39;00m\n\u001b[1;32m---> 21\u001b[0m run_multiple_games(start_game_id\u001b[38;5;241m=\u001b[39m\u001b[38;5;241m46678000\u001b[39m, end_game_id\u001b[38;5;241m=\u001b[39m\u001b[38;5;241m46679000\u001b[39m, num_runs\u001b[38;5;241m=\u001b[39m\u001b[38;5;241m3\u001b[39m, mode\u001b[38;5;241m=\u001b[39m\u001b[38;5;124m'\u001b[39m\u001b[38;5;124mappend\u001b[39m\u001b[38;5;124m'\u001b[39m)\n",
      "Cell \u001b[1;32mIn[4], line 11\u001b[0m, in \u001b[0;36mrun_multiple_games\u001b[1;34m(start_game_id, end_game_id, num_runs, mode)\u001b[0m\n\u001b[0;32m      8\u001b[0m game_id \u001b[38;5;241m=\u001b[39m random\u001b[38;5;241m.\u001b[39mrandint(start_game_id, end_game_id)\n\u001b[0;32m     10\u001b[0m \u001b[38;5;66;03m# Get game data\u001b[39;00m\n\u001b[1;32m---> 11\u001b[0m players_data \u001b[38;5;241m=\u001b[39m get_game_data(game_id)\n\u001b[0;32m     13\u001b[0m \u001b[38;5;66;03m# Save to CSV\u001b[39;00m\n\u001b[0;32m     14\u001b[0m \u001b[38;5;28;01mif\u001b[39;00m players_data:\n",
      "\u001b[1;31mNameError\u001b[0m: name 'get_game_data' is not defined"
     ]
    }
   ],
   "source": [
    "import random\n",
    "import time\n",
    "\n",
    "# Function to run the process multiple times with random game IDs within a range\n",
    "def run_multiple_games(start_game_id, end_game_id, num_runs, mode='append'):\n",
    "    for _ in range(num_runs):\n",
    "        # Generate a random game ID within the specified range\n",
    "        game_id = random.randint(start_game_id, end_game_id)\n",
    "        \n",
    "        # Get game data\n",
    "        players_data = get_game_data(game_id)\n",
    "        \n",
    "        # Save to CSV\n",
    "        if players_data:\n",
    "            save_players_data_to_csv(players_data, mode=mode)\n",
    "        \n",
    "        # Optionally, add a delay between requests to avoid overloading the API or getting blocked\n",
    "        time.sleep(1)  # Delay in seconds, can be adjusted\n",
    "\n",
    "# Example usage\n",
    "run_multiple_games(start_game_id=46678000, end_game_id=46679000, num_runs=3, mode='append')\n"
   ]
  }
 ],
 "metadata": {
  "kernelspec": {
   "display_name": "base",
   "language": "python",
   "name": "python3"
  },
  "language_info": {
   "codemirror_mode": {
    "name": "ipython",
    "version": 3
   },
   "file_extension": ".py",
   "mimetype": "text/x-python",
   "name": "python",
   "nbconvert_exporter": "python",
   "pygments_lexer": "ipython3",
   "version": "3.12.7"
  }
 },
 "nbformat": 4,
 "nbformat_minor": 5
}
