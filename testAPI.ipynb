{
 "cells": [
  {
   "cell_type": "code",
   "execution_count": 88,
   "id": "1fe0ead6",
   "metadata": {},
   "outputs": [],
   "source": [
    "import requests\n",
    "import pandas as pd\n",
    "\n",
    "API_KEY = 'yC64acO6xj53iW03VTdPX6QZxY5Y7najMElljT50'\n",
    "HEADERS = {'x-api-key': API_KEY}\n",
    "game_id = 46676940"
   ]
  },
  {
   "cell_type": "code",
   "execution_count": 94,
   "id": "6bafc4c9",
   "metadata": {},
   "outputs": [],
   "source": [
    "import requests\n",
    "import pandas as pd\n",
    "\n",
    "API_KEY = 'yC64acO6xj53iW03VTdPX6QZxY5Y7najMElljT50'\n",
    "HEADERS = {'x-api-key': API_KEY}\n",
    "game_id = 46676940\n",
    "\n",
    "# Function to get the game data for all players in a game\n",
    "def get_game_data(game_id):\n",
    "    url = f'https://open-api.bser.io/v1/games/{game_id}'\n",
    "    response = requests.get(url, headers=HEADERS)\n",
    "\n",
    "    if response.status_code != 200:\n",
    "        print(f\"Failed to fetch game data: {response.status_code} - {response.text}\")\n",
    "        return None\n",
    "\n",
    "    data = response.json()\n",
    "\n",
    "    # Initialize list to store player data\n",
    "    players_data = []\n",
    "\n",
    "    # Iterate through players in the game and extract relevant details\n",
    "    for player in data.get('players', []):  # Adjust the key based on actual API structure\n",
    "        user_num = player.get('userNum', '')\n",
    "        nickname = player.get('nickname', '')\n",
    "        game_id = player.get('gameId', '')\n",
    "        season_id = player.get('seasonId', '')\n",
    "\n",
    "        # Append player data to the list\n",
    "        players_data.append({\n",
    "            'userNum': user_num,\n",
    "            'nickname': nickname,\n",
    "            'gameId': game_id,\n",
    "            'seasonId': season_id\n",
    "        })\n",
    "\n",
    "    return players_data\n",
    "\n",
    "players_data = get_game_data(game_id)\n",
    "\n",
    "# If data is fetched successfully, create a pandas DataFrame and print it\n",
    "if players_data:\n",
    "    df = pd.DataFrame(players_data)\n",
    "    print(df)  # This will print the DataFrame to the console\n"
   ]
  }
 ],
 "metadata": {
  "kernelspec": {
   "display_name": "Python 3",
   "language": "python",
   "name": "python3"
  },
  "language_info": {
   "codemirror_mode": {
    "name": "ipython",
    "version": 3
   },
   "file_extension": ".py",
   "mimetype": "text/x-python",
   "name": "python",
   "nbconvert_exporter": "python",
   "pygments_lexer": "ipython3",
   "version": "3.10.11"
  }
 },
 "nbformat": 4,
 "nbformat_minor": 5
}
