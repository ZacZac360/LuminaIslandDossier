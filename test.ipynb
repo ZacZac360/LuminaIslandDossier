{
 "cells": [
  {
   "cell_type": "code",
   "execution_count": 1,
   "id": "9e8dbfe3",
   "metadata": {},
   "outputs": [],
   "source": [
    "import pandas as pd\n",
    "from sklearn.model_selection import train_test_split\n",
    "from sklearn.preprocessing import OneHotEncoder\n",
    "from sklearn.ensemble import RandomForestClassifier\n",
    "from sklearn.metrics import accuracy_score"
   ]
  },
  {
   "cell_type": "code",
   "execution_count": null,
   "id": "36e17a72",
   "metadata": {},
   "outputs": [],
   "source": [
    "#Load your CSV\n",
    "df = pd.read_csv(\"match_history.csv\")"
   ]
  },
  {
   "cell_type": "code",
   "execution_count": 3,
   "id": "8a2e58fc",
   "metadata": {},
   "outputs": [],
   "source": [
    "#Create a 'Win' column (True if Place == 1)\n",
    "df['Win'] = df['Place'] == 1"
   ]
  },
  {
   "cell_type": "code",
   "execution_count": 8,
   "id": "a6ac54e6",
   "metadata": {},
   "outputs": [],
   "source": [
    "#Select relevant features\n",
    "features = [\n",
    "    'CharacterName', 'Weapon', 'Item_Head', 'Item_Chest', 'Item_Arm', 'Item_Leg',\n",
    "    'Augment_Main', 'Augment_Sub1',\n",
    "    'Tactical_Skill'\n",
    "]"
   ]
  },
  {
   "cell_type": "code",
   "execution_count": 9,
   "id": "1904b65e",
   "metadata": {},
   "outputs": [],
   "source": [
    "# 4. Drop rows with missing values\n",
    "df_clean = df.dropna(subset=features + ['Win'])"
   ]
  },
  {
   "cell_type": "code",
   "execution_count": 10,
   "id": "60bfdf53",
   "metadata": {},
   "outputs": [],
   "source": [
    "# 5. Split into input X and target y\n",
    "X = df_clean[features]\n",
    "y = df_clean['Win'].astype(int)  # convert True/False to 1/0"
   ]
  },
  {
   "cell_type": "code",
   "execution_count": 11,
   "id": "188c16ac",
   "metadata": {},
   "outputs": [
    {
     "ename": "TypeError",
     "evalue": "OneHotEncoder.__init__() got an unexpected keyword argument 'sparse'",
     "output_type": "error",
     "traceback": [
      "\u001b[1;31m---------------------------------------------------------------------------\u001b[0m",
      "\u001b[1;31mTypeError\u001b[0m                                 Traceback (most recent call last)",
      "Cell \u001b[1;32mIn[11], line 2\u001b[0m\n\u001b[0;32m      1\u001b[0m \u001b[38;5;66;03m# 6. One-hot encode categorical data\u001b[39;00m\n\u001b[1;32m----> 2\u001b[0m encoder \u001b[38;5;241m=\u001b[39m \u001b[43mOneHotEncoder\u001b[49m\u001b[43m(\u001b[49m\u001b[43msparse\u001b[49m\u001b[38;5;241;43m=\u001b[39;49m\u001b[38;5;28;43;01mFalse\u001b[39;49;00m\u001b[43m,\u001b[49m\u001b[43m \u001b[49m\u001b[43mhandle_unknown\u001b[49m\u001b[38;5;241;43m=\u001b[39;49m\u001b[38;5;124;43m'\u001b[39;49m\u001b[38;5;124;43mignore\u001b[39;49m\u001b[38;5;124;43m'\u001b[39;49m\u001b[43m)\u001b[49m\n\u001b[0;32m      3\u001b[0m X_encoded \u001b[38;5;241m=\u001b[39m encoder\u001b[38;5;241m.\u001b[39mfit_transform(X)\n",
      "\u001b[1;31mTypeError\u001b[0m: OneHotEncoder.__init__() got an unexpected keyword argument 'sparse'"
     ]
    }
   ],
   "source": [
    "# 6. One-hot encode categorical data\n",
    "encoder = OneHotEncoder(sparse=False, handle_unknown='ignore')\n",
    "X_encoded = encoder.fit_transform(X)"
   ]
  }
 ],
 "metadata": {
  "kernelspec": {
   "display_name": "Python 3",
   "language": "python",
   "name": "python3"
  },
  "language_info": {
   "codemirror_mode": {
    "name": "ipython",
    "version": 3
   },
   "file_extension": ".py",
   "mimetype": "text/x-python",
   "name": "python",
   "nbconvert_exporter": "python",
   "pygments_lexer": "ipython3",
   "version": "3.10.11"
  }
 },
 "nbformat": 4,
 "nbformat_minor": 5
}
