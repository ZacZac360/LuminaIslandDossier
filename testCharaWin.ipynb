{
 "cells": [
  {
   "cell_type": "code",
   "execution_count": 89,
   "id": "5d1a980e",
   "metadata": {},
   "outputs": [
    {
     "name": "stdout",
     "output_type": "stream",
     "text": [
      "              precision    recall  f1-score   support\n",
      "\n",
      "           0       1.00      1.00      1.00         3\n",
      "           1       1.00      1.00      1.00         1\n",
      "\n",
      "    accuracy                           1.00         4\n",
      "   macro avg       1.00      1.00      1.00         4\n",
      "weighted avg       1.00      1.00      1.00         4\n",
      "\n"
     ]
    }
   ],
   "source": [
    "import pandas as pd\n",
    "from sklearn.model_selection import train_test_split\n",
    "from sklearn.ensemble import RandomForestClassifier\n",
    "from sklearn.metrics import classification_report\n",
    "from imblearn.over_sampling import SMOTE\n",
    "from sklearn.preprocessing import StandardScaler\n",
    "from imblearn.over_sampling import RandomOverSampler\n",
    "\n",
    "# Load your data\n",
    "df = pd.read_csv(\"match_history.csv\")\n",
    "\n",
    "# Filter for a specific character\n",
    "char_name = \"Isol\"\n",
    "df_char = df[df[\"CharacterName\"] == char_name].copy()\n",
    "\n",
    "# Binary target: Win = 1 if Place == 1\n",
    "df_char[\"Win\"] = (df_char[\"Place\"] == 1).astype(int)\n",
    "\n",
    "# Drop unneeded columns\n",
    "df_char = df_char.drop(columns=[\"GameID\", \"Place\", \"CharacterName\"])\n",
    "\n",
    "# One-hot encode categorical features\n",
    "X = pd.get_dummies(df_char.drop(\"Win\", axis=1))\n",
    "y = df_char[\"Win\"]\n",
    "\n",
    "# Optional: Scale numeric features (for SMOTE)\n",
    "scaler = StandardScaler()\n",
    "X_scaled = scaler.fit_transform(X)\n",
    "\n",
    "# Apply SMOTE\n",
    "ros = RandomOverSampler(random_state=42)\n",
    "X_balanced, y_balanced = ros.fit_resample(X_scaled, y)\n",
    "\n",
    "# Train/test split\n",
    "X_train, X_test, y_train, y_test = train_test_split(X_balanced, y_balanced, test_size=0.2, random_state=42)\n",
    "\n",
    "# Train model\n",
    "clf = RandomForestClassifier(n_estimators=100, random_state=42)\n",
    "clf.fit(X_train, y_train)\n",
    "\n",
    "# Evaluate\n",
    "y_pred = clf.predict(X_test)\n",
    "print(classification_report(y_test, y_pred))\n"
   ]
  },
  {
   "cell_type": "code",
   "execution_count": null,
   "id": "2cd10f71",
   "metadata": {},
   "outputs": [
    {
     "name": "stdout",
     "output_type": "stream",
     "text": [
      "Darko raw win rate: 37.50%\n"
     ]
    }
   ],
   "source": [
    "char_name = \"Darko\"\n",
    "df_char = df[df[\"CharacterName\"] == char_name].copy()\n",
    "\n",
    "# Load the dataset\n",
    "df = pd.read_csv(\"match_history.csv\")\n",
    "\n",
    "# Filter dataset to only that character\n",
    "df_char = df[df[\"CharacterName\"] == char_name].copy()\n",
    "\n",
    "# Create the binary 'Win' column\n",
    "df_char[\"Win\"] = (df_char[\"Place\"] == 1).astype(int)\n",
    "\n",
    "win_rate = df_char[\"Win\"].mean()\n",
    "print(f\"{char_name} raw win rate: {win_rate:.2%}\")\n",
    "\n"
   ]
  }
 ],
 "metadata": {
  "kernelspec": {
   "display_name": "Python 3",
   "language": "python",
   "name": "python3"
  },
  "language_info": {
   "codemirror_mode": {
    "name": "ipython",
    "version": 3
   },
   "file_extension": ".py",
   "mimetype": "text/x-python",
   "name": "python",
   "nbconvert_exporter": "python",
   "pygments_lexer": "ipython3",
   "version": "3.10.11"
  }
 },
 "nbformat": 4,
 "nbformat_minor": 5
}
