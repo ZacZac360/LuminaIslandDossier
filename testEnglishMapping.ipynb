{
 "cells": [
  {
   "cell_type": "code",
   "execution_count": 1,
   "id": "78dc6bb0",
   "metadata": {},
   "outputs": [
    {
     "name": "stdout",
     "output_type": "stream",
     "text": [
      "Extracted 83 characters to character_mapping.json\n"
     ]
    }
   ],
   "source": [
    "import json\n",
    "\n",
    "def parse_character_file(file_path, output_json_path):\n",
    "    id_to_character = {}\n",
    "\n",
    "    with open(file_path, 'r', encoding='utf-8') as f:\n",
    "        for line in f:\n",
    "            if 'Character/Name/' in line:\n",
    "                try:\n",
    "                    key, value = line.strip().split('┃')\n",
    "                    char_id = key.split('/')[-1]\n",
    "                    id_to_character[int(char_id)] = value\n",
    "                except ValueError:\n",
    "                    continue  # Skip malformed lines\n",
    "\n",
    "    with open(output_json_path, 'w', encoding='utf-8') as out:\n",
    "        json.dump(id_to_character, out, ensure_ascii=False, indent=2)\n",
    "\n",
    "    print(f\"Extracted {len(id_to_character)} characters to {output_json_path}\")\n",
    "\n",
    "# Example usage\n",
    "parse_character_file('English.txt', 'character_mapping.json')\n"
   ]
  },
  {
   "cell_type": "code",
   "execution_count": 1,
   "id": "dd3369b0",
   "metadata": {},
   "outputs": [
    {
     "name": "stdout",
     "output_type": "stream",
     "text": [
      "Extracted 25 weapon mastery entries to weapon_mapping.json\n"
     ]
    }
   ],
   "source": [
    "import json\n",
    "\n",
    "def parse_weapon_mappings(id_name_list, name_file_path, output_json_path):\n",
    "    # Step 1: Manually define ID -> internal name\n",
    "    id_to_internal = {\n",
    "        0: 'None',\n",
    "        1: 'Glove',\n",
    "        2: 'Tonfa',\n",
    "        3: 'Bat',\n",
    "        4: 'Whip',\n",
    "        5: 'HighAngleFire',\n",
    "        6: 'DirectFire',\n",
    "        7: 'Bow',\n",
    "        8: 'CrossBow',\n",
    "        9: 'Pistol',\n",
    "        10: 'AssaultRifle',\n",
    "        11: 'SniperRifle',\n",
    "        13: 'Hammer',\n",
    "        14: 'Axe',\n",
    "        15: 'OneHandSword',\n",
    "        16: 'TwoHandSword',\n",
    "        17: 'Polearm',\n",
    "        18: 'DualSword',\n",
    "        19: 'Spear',\n",
    "        20: 'Nunchaku',\n",
    "        21: 'Rapier',\n",
    "        22: 'Guitar',\n",
    "        23: 'Camera',\n",
    "        24: 'Arcana',\n",
    "        25: 'VFArm'\n",
    "    }\n",
    "\n",
    "    # Step 2: Parse internal name -> readable name\n",
    "    internal_to_readable = {}\n",
    "    with open(name_file_path, 'r', encoding='utf-8') as f:\n",
    "        for line in f:\n",
    "            if 'WeaponType/' in line:\n",
    "                try:\n",
    "                    key, value = line.strip().split('┃')\n",
    "                    internal_name = key.split('/')[-1]\n",
    "                    internal_to_readable[internal_name] = value\n",
    "                except ValueError:\n",
    "                    continue\n",
    "\n",
    "    # Step 3: Merge to create ID -> readable name\n",
    "    id_to_readable = {}\n",
    "    for id_num, internal in id_to_internal.items():\n",
    "        readable = internal_to_readable.get(internal, internal)  # fallback to internal name if not found\n",
    "        id_to_readable[id_num] = readable\n",
    "\n",
    "    # Step 4: Write to JSON\n",
    "    with open(output_json_path, 'w', encoding='utf-8') as out:\n",
    "        json.dump(id_to_readable, out, ensure_ascii=False, indent=2)\n",
    "\n",
    "    print(f\"Extracted {len(id_to_readable)} weapon mastery entries to {output_json_path}\")\n",
    "\n",
    "# Example usage\n",
    "parse_weapon_mappings(None, 'English.txt', 'weapon_mapping.json')\n"
   ]
  },
  {
   "cell_type": "code",
   "execution_count": 2,
   "id": "b0ebe1da",
   "metadata": {},
   "outputs": [
    {
     "name": "stdout",
     "output_type": "stream",
     "text": [
      "Extracted 1032 items to item_mapping.json\n"
     ]
    }
   ],
   "source": [
    "import json\n",
    "\n",
    "def parse_item_file(file_path, output_json_path):\n",
    "    item_map = {}\n",
    "\n",
    "    with open(file_path, 'r', encoding='utf-8') as f:\n",
    "        for line in f:\n",
    "            if 'Item/Name/' in line:\n",
    "                try:\n",
    "                    key, value = line.strip().split('┃')\n",
    "                    item_id = key.split('/')[-1]\n",
    "                    \n",
    "                    # Replace spaces with underscores\n",
    "                    item_name = value.replace(' ', '_')\n",
    "                    \n",
    "                    # Store the item ID and name in the dictionary\n",
    "                    item_map[int(item_id)] = item_name\n",
    "                except ValueError:\n",
    "                    continue  # Skip malformed lines\n",
    "\n",
    "    with open(output_json_path, 'w', encoding='utf-8') as out:\n",
    "        json.dump(item_map, out, ensure_ascii=False, indent=2)\n",
    "\n",
    "    print(f\"Extracted {len(item_map)} items to {output_json_path}\")\n",
    "\n",
    "# Example usage\n",
    "parse_item_file('English.txt', 'item_mapping.json')\n"
   ]
  },
  {
   "cell_type": "code",
   "execution_count": 3,
   "id": "ff8100d9",
   "metadata": {},
   "outputs": [
    {
     "name": "stdout",
     "output_type": "stream",
     "text": [
      "Extracted 172 augments to augment_mapping.json\n"
     ]
    }
   ],
   "source": [
    "import json\n",
    "\n",
    "def parse_augment_file(file_path, output_json_path):\n",
    "    augment_map = {}\n",
    "\n",
    "    with open(file_path, 'r', encoding='utf-8') as f:\n",
    "        for line in f:\n",
    "            if 'Trait/Name/' in line:\n",
    "                try:\n",
    "                    key, value = line.strip().split('┃')\n",
    "                    augment_id = key.split('/')[-1]\n",
    "                    \n",
    "                    # Replace spaces with underscores\n",
    "                    augment_name = value.replace(' ', '_')\n",
    "\n",
    "                    # Store the augment ID and name in the dictionary\n",
    "                    augment_map[int(augment_id)] = augment_name\n",
    "                except ValueError:\n",
    "                    continue  # Skip malformed lines\n",
    "\n",
    "    with open(output_json_path, 'w', encoding='utf-8') as out:\n",
    "        json.dump(augment_map, out, ensure_ascii=False, indent=2)\n",
    "\n",
    "    print(f\"Extracted {len(augment_map)} augments to {output_json_path}\")\n",
    "\n",
    "# Example usage\n",
    "parse_augment_file('English.txt', 'augment_mapping.json')\n"
   ]
  }
 ],
 "metadata": {
  "kernelspec": {
   "display_name": "base",
   "language": "python",
   "name": "python3"
  },
  "language_info": {
   "codemirror_mode": {
    "name": "ipython",
    "version": 3
   },
   "file_extension": ".py",
   "mimetype": "text/x-python",
   "name": "python",
   "nbconvert_exporter": "python",
   "pygments_lexer": "ipython3",
   "version": "3.12.7"
  }
 },
 "nbformat": 4,
 "nbformat_minor": 5
}
