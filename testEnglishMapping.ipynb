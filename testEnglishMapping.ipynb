{
 "cells": [
  {
   "cell_type": "code",
   "execution_count": 1,
   "id": "78dc6bb0",
   "metadata": {},
   "outputs": [
    {
     "name": "stdout",
     "output_type": "stream",
     "text": [
      "Extracted 83 characters to character_mapping.json\n"
     ]
    }
   ],
   "source": [
    "import json\n",
    "\n",
    "def parse_character_file(file_path, output_json_path):\n",
    "    id_to_character = {}\n",
    "\n",
    "    with open(file_path, 'r', encoding='utf-8') as f:\n",
    "        for line in f:\n",
    "            if 'Character/Name/' in line:\n",
    "                try:\n",
    "                    key, value = line.strip().split('┃')\n",
    "                    char_id = key.split('/')[-1]\n",
    "                    id_to_character[int(char_id)] = value\n",
    "                except ValueError:\n",
    "                    continue  # Skip malformed lines\n",
    "\n",
    "    with open(output_json_path, 'w', encoding='utf-8') as out:\n",
    "        json.dump(id_to_character, out, ensure_ascii=False, indent=2)\n",
    "\n",
    "    print(f\"Extracted {len(id_to_character)} characters to {output_json_path}\")\n",
    "\n",
    "# Example usage\n",
    "parse_character_file('English.txt', 'character_mapping.json')\n"
   ]
  }
 ],
 "metadata": {
  "kernelspec": {
   "display_name": "Python 3",
   "language": "python",
   "name": "python3"
  },
  "language_info": {
   "codemirror_mode": {
    "name": "ipython",
    "version": 3
   },
   "file_extension": ".py",
   "mimetype": "text/x-python",
   "name": "python",
   "nbconvert_exporter": "python",
   "pygments_lexer": "ipython3",
   "version": "3.10.11"
  }
 },
 "nbformat": 4,
 "nbformat_minor": 5
}
