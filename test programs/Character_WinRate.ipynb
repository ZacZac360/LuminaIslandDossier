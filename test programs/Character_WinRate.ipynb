{
 "cells": [
  {
   "cell_type": "code",
   "execution_count": 18,
   "id": "45047118",
   "metadata": {},
   "outputs": [],
   "source": [
    "import pandas as pd\n",
    "from sklearn.model_selection import train_test_split\n",
    "from sklearn.preprocessing import OneHotEncoder\n",
    "from sklearn.pipeline import Pipeline\n",
    "from sklearn.compose import ColumnTransformer\n",
    "from sklearn.metrics import classification_report\n",
    "from sklearn.pipeline import Pipeline\n",
    "\n",
    "# Define your models\n",
    "from sklearn.model_selection import cross_validate\n",
    "from sklearn.pipeline import Pipeline\n",
    "from sklearn.ensemble import RandomForestClassifier, GradientBoostingClassifier\n",
    "from sklearn.linear_model import LogisticRegression\n",
    "from sklearn.tree import DecisionTreeClassifier\n",
    "from sklearn.svm import SVC\n",
    "from sklearn.neighbors import KNeighborsClassifier\n",
    "from sklearn.ensemble import AdaBoostClassifier, ExtraTreesClassifier\n",
    "from xgboost import XGBClassifier\n",
    "from lightgbm import LGBMClassifier\n",
    "from sklearn.tree import DecisionTreeClassifier\n",
    "from sklearn.ensemble import RandomForestClassifier\n",
    "from sklearn.linear_model import LogisticRegression\n",
    "from sklearn.ensemble import GradientBoostingClassifier\n",
    "from sklearn.ensemble import AdaBoostClassifier\n",
    "from sklearn.ensemble import ExtraTreesClassifier\n",
    "from sklearn.svm import SVC\n",
    "from sklearn.neighbors import KNeighborsClassifier\n",
    "from xgboost import XGBClassifier\n",
    "from lightgbm import LGBMClassifier\n",
    "\n",
    "\n",
    "\n"
   ]
  },
  {
   "cell_type": "code",
   "execution_count": 3,
   "id": "1462833d",
   "metadata": {},
   "outputs": [],
   "source": [
    "# Load and clean data\n",
    "df = pd.read_csv(\"players_data.csv\", encoding='latin1')"
   ]
  },
  {
   "cell_type": "code",
   "execution_count": 4,
   "id": "90260a11",
   "metadata": {},
   "outputs": [
    {
     "name": "stdout",
     "output_type": "stream",
     "text": [
      "Total rows before dropping: 311265\n",
      "Rows with missing traits: 41064 (13.19%)\n",
      "Rows with all traits filled: 270201 (86.81%)\n"
     ]
    }
   ],
   "source": [
    "# Check how many rows have any missing trait values\n",
    "trait_cols = ['Trait_Main1', 'Trait_Main2', 'Trait_Sub1', 'Trait_Sub2']\n",
    "\n",
    "# Count rows with any missing trait\n",
    "missing_trait_rows = df[trait_cols].isnull().any(axis=1).sum()\n",
    "\n",
    "# Count total rows before dropping\n",
    "total_rows_before = len(df)\n",
    "\n",
    "# Calculate filled vs missing trait ratios\n",
    "print(f\"Total rows before dropping: {total_rows_before}\")\n",
    "print(f\"Rows with missing traits: {missing_trait_rows} ({(missing_trait_rows / total_rows_before):.2%})\")\n",
    "print(f\"Rows with all traits filled: {total_rows_before - missing_trait_rows} ({((total_rows_before - missing_trait_rows) / total_rows_before):.2%})\")\n"
   ]
  },
  {
   "cell_type": "code",
   "execution_count": 5,
   "id": "484b527f",
   "metadata": {},
   "outputs": [],
   "source": [
    "#clean dataset\n",
    "df = df.drop_duplicates()\n",
    "df.dropna(subset=['character', 'gameId', 'gameRank'], inplace=True)\n",
    "df.fillna('Unknown', inplace=True)"
   ]
  },
  {
   "cell_type": "code",
   "execution_count": 6,
   "id": "16b48c8d",
   "metadata": {},
   "outputs": [],
   "source": [
    "#Define win as gameRank == 1\n",
    "df['win'] = df.groupby('gameId')['gameRank'].rank().apply(lambda x: 1 if x <= 3 else 0)\n",
    "\n",
    "\n"
   ]
  },
  {
   "cell_type": "code",
   "execution_count": 7,
   "id": "a655ea93",
   "metadata": {},
   "outputs": [],
   "source": [
    "#Calculate historical win rate for each character\n",
    "win_rate = df.groupby('character')['win'].mean()\n",
    "\n"
   ]
  },
  {
   "cell_type": "code",
   "execution_count": 8,
   "id": "d4fc9d82",
   "metadata": {},
   "outputs": [],
   "source": [
    "# Calculate average stats for each character (for use when only the character name is provided)\n",
    "average_stats = df.groupby('character')[['Kill', 'Death', 'Assist', 'Dmg_Player']].mean()\n",
    "\n"
   ]
  },
  {
   "cell_type": "code",
   "execution_count": 9,
   "id": "23635686",
   "metadata": {},
   "outputs": [],
   "source": [
    "#Features and target\n",
    "X = df[['character', 'Kill', 'Death', 'Assist', 'Dmg_Player']]\n",
    "y = df['win']\n",
    "\n"
   ]
  },
  {
   "cell_type": "code",
   "execution_count": 10,
   "id": "e19f0ad3",
   "metadata": {},
   "outputs": [],
   "source": [
    "#Train/test split\n",
    "X_train, X_test, y_train, y_test = train_test_split(X, y, stratify=y, test_size=0.2, random_state=42)\n",
    "\n"
   ]
  },
  {
   "cell_type": "code",
   "execution_count": 11,
   "id": "61750b2f",
   "metadata": {},
   "outputs": [],
   "source": [
    "preprocessor = ColumnTransformer(transformers=[\n",
    "    ('char', OneHotEncoder(handle_unknown='ignore'), ['character']),\n",
    "    ('num', StandardScaler(), ['Kill', 'Death', 'Assist', 'Dmg_Player'])  # Add this line\n",
    "], remainder='passthrough')\n"
   ]
  },
  {
   "cell_type": "code",
   "execution_count": null,
   "id": "242fb17c",
   "metadata": {},
   "outputs": [
    {
     "name": "stdout",
     "output_type": "stream",
     "text": [
      "Evaluating Random Forest...\n",
      "Evaluating Gradient Boosting...\n",
      "Evaluating Logistic Regression...\n"
     ]
    },
    {
     "name": "stderr",
     "output_type": "stream",
     "text": [
      "c:\\Users\\Zai\\AppData\\Local\\Programs\\Python\\Python310\\lib\\site-packages\\sklearn\\linear_model\\_logistic.py:469: ConvergenceWarning: lbfgs failed to converge (status=1):\n",
      "STOP: TOTAL NO. of ITERATIONS REACHED LIMIT.\n",
      "\n",
      "Increase the number of iterations (max_iter) or scale the data as shown in:\n",
      "    https://scikit-learn.org/stable/modules/preprocessing.html\n",
      "Please also refer to the documentation for alternative solver options:\n",
      "    https://scikit-learn.org/stable/modules/linear_model.html#logistic-regression\n",
      "  n_iter_i = _check_optimize_result(\n",
      "c:\\Users\\Zai\\AppData\\Local\\Programs\\Python\\Python310\\lib\\site-packages\\sklearn\\linear_model\\_logistic.py:469: ConvergenceWarning: lbfgs failed to converge (status=1):\n",
      "STOP: TOTAL NO. of ITERATIONS REACHED LIMIT.\n",
      "\n",
      "Increase the number of iterations (max_iter) or scale the data as shown in:\n",
      "    https://scikit-learn.org/stable/modules/preprocessing.html\n",
      "Please also refer to the documentation for alternative solver options:\n",
      "    https://scikit-learn.org/stable/modules/linear_model.html#logistic-regression\n",
      "  n_iter_i = _check_optimize_result(\n",
      "c:\\Users\\Zai\\AppData\\Local\\Programs\\Python\\Python310\\lib\\site-packages\\sklearn\\linear_model\\_logistic.py:469: ConvergenceWarning: lbfgs failed to converge (status=1):\n",
      "STOP: TOTAL NO. of ITERATIONS REACHED LIMIT.\n",
      "\n",
      "Increase the number of iterations (max_iter) or scale the data as shown in:\n",
      "    https://scikit-learn.org/stable/modules/preprocessing.html\n",
      "Please also refer to the documentation for alternative solver options:\n",
      "    https://scikit-learn.org/stable/modules/linear_model.html#logistic-regression\n",
      "  n_iter_i = _check_optimize_result(\n",
      "c:\\Users\\Zai\\AppData\\Local\\Programs\\Python\\Python310\\lib\\site-packages\\sklearn\\linear_model\\_logistic.py:469: ConvergenceWarning: lbfgs failed to converge (status=1):\n",
      "STOP: TOTAL NO. of ITERATIONS REACHED LIMIT.\n",
      "\n",
      "Increase the number of iterations (max_iter) or scale the data as shown in:\n",
      "    https://scikit-learn.org/stable/modules/preprocessing.html\n",
      "Please also refer to the documentation for alternative solver options:\n",
      "    https://scikit-learn.org/stable/modules/linear_model.html#logistic-regression\n",
      "  n_iter_i = _check_optimize_result(\n",
      "c:\\Users\\Zai\\AppData\\Local\\Programs\\Python\\Python310\\lib\\site-packages\\sklearn\\linear_model\\_logistic.py:469: ConvergenceWarning: lbfgs failed to converge (status=1):\n",
      "STOP: TOTAL NO. of ITERATIONS REACHED LIMIT.\n",
      "\n",
      "Increase the number of iterations (max_iter) or scale the data as shown in:\n",
      "    https://scikit-learn.org/stable/modules/preprocessing.html\n",
      "Please also refer to the documentation for alternative solver options:\n",
      "    https://scikit-learn.org/stable/modules/linear_model.html#logistic-regression\n",
      "  n_iter_i = _check_optimize_result(\n"
     ]
    },
    {
     "name": "stdout",
     "output_type": "stream",
     "text": [
      "Evaluating Decision Tree...\n",
      "Evaluating SVC...\n"
     ]
    }
   ],
   "source": [
    "models = {\n",
    "    \"Random Forest\": RandomForestClassifier(random_state=42, class_weight='balanced'),\n",
    "    \"Gradient Boosting\": GradientBoostingClassifier(random_state=42),\n",
    "    \"Logistic Regression\": LogisticRegression(max_iter=1000),\n",
    "    \"Decision Tree\": DecisionTreeClassifier(random_state=42, class_weight='balanced'),\n",
    "    \"SVC\": SVC(probability=True),\n",
    "    \"KNN\": KNeighborsClassifier(),\n",
    "    \"AdaBoost\": AdaBoostClassifier(random_state=42),\n",
    "    \"Extra Trees\": ExtraTreesClassifier(random_state=42),\n",
    "    \"XGBoost\": XGBClassifier(random_state=42, use_label_encoder=False, eval_metric='logloss'),\n",
    "    \"LightGBM\": LGBMClassifier(random_state=42)\n",
    "}\n",
    "\n",
    "# This dictionary will hold the evaluation results for each model\n",
    "results = {}\n",
    "\n",
    "for name, model in models.items():\n",
    "    print(f\"Evaluating {name}...\")\n",
    "    # Define pipeline with the preprocessor and model\n",
    "    pipeline = Pipeline(steps=[('preprocessor', preprocessor), ('classifier', model)])\n",
    "    \n",
    "    # Perform cross-validation to evaluate the model\n",
    "    scores = cross_validate(\n",
    "        pipeline,\n",
    "        X_train,\n",
    "        y_train,\n",
    "        cv=5,\n",
    "        scoring=['accuracy', 'precision_macro', 'recall_macro', 'f1_macro'],\n",
    "        return_train_score=False\n",
    "    )\n",
    "    \n",
    "    # Store the results for the current model\n",
    "    results[name] = {\n",
    "        'accuracy': (scores['test_accuracy'].mean(), scores['test_accuracy'].std()),\n",
    "        'precision': (scores['test_precision_macro'].mean(), scores['test_precision_macro'].std()),\n",
    "        'recall': (scores['test_recall_macro'].mean(), scores['test_recall_macro'].std()),\n",
    "        'f1': (scores['test_f1_macro'].mean(), scores['test_f1_macro'].std())\n",
    "    }\n",
    "\n",
    "# Convert results to a DataFrame for easy viewing\n",
    "results_df = pd.DataFrame(results).T.sort_values(by='f1', ascending=False)\n",
    "\n",
    "# Split the means and standard deviations into separate columns for each metric\n",
    "results_df[['accuracy_mean', 'accuracy_std']] = pd.DataFrame(results_df['accuracy'].to_list(), index=results_df.index)\n",
    "results_df[['precision_mean', 'precision_std']] = pd.DataFrame(results_df['precision'].to_list(), index=results_df.index)\n",
    "results_df[['recall_mean', 'recall_std']] = pd.DataFrame(results_df['recall'].to_list(), index=results_df.index)\n",
    "results_df[['f1_mean', 'f1_std']] = pd.DataFrame(results_df['f1'].to_list(), index=results_df.index)\n",
    "\n",
    "# Drop the original columns containing tuples\n",
    "results_df = results_df.drop(columns=['accuracy', 'precision', 'recall', 'f1'])\n",
    "\n",
    "# Display the final result\n",
    "print(results_df)\n"
   ]
  },
  {
   "cell_type": "code",
   "execution_count": 1,
   "id": "b87cd341",
   "metadata": {},
   "outputs": [
    {
     "ename": "NameError",
     "evalue": "name 'results_df' is not defined",
     "output_type": "error",
     "traceback": [
      "\u001b[1;31m---------------------------------------------------------------------------\u001b[0m",
      "\u001b[1;31mNameError\u001b[0m                                 Traceback (most recent call last)",
      "Cell \u001b[1;32mIn[1], line 1\u001b[0m\n\u001b[1;32m----> 1\u001b[0m \u001b[38;5;28mprint\u001b[39m(\u001b[43mresults_df\u001b[49m)\n",
      "\u001b[1;31mNameError\u001b[0m: name 'results_df' is not defined"
     ]
    }
   ],
   "source": [
    "print(results_df)"
   ]
  },
  {
   "cell_type": "code",
   "execution_count": 12,
   "id": "8007bb7d",
   "metadata": {},
   "outputs": [
    {
     "name": "stdout",
     "output_type": "stream",
     "text": [
      "Evaluating Random Forest...\n",
      "Evaluating Gradient Boosting...\n",
      "Evaluating Logistic Regression...\n",
      "Evaluating Decision Tree...\n",
      "Evaluating AdaBoost...\n",
      "Evaluating Extra Trees...\n",
      "Evaluating XGBoost...\n",
      "Evaluating LightGBM...\n"
     ]
    }
   ],
   "source": [
    "# Sample a portion of the training data to speed up evaluation\n",
    "SAMPLE_SIZE = 20000  # adjust as needed\n",
    "X_sampled = X_train.sample(n=SAMPLE_SIZE, random_state=42)\n",
    "y_sampled = y_train.loc[X_sampled.index]\n",
    "\n",
    "#lighter\n",
    "models = {\n",
    "    \"Random Forest\": RandomForestClassifier(n_jobs=-1, random_state=42, class_weight='balanced'),\n",
    "    \"Gradient Boosting\": GradientBoostingClassifier(random_state=42),\n",
    "    \"Logistic Regression\": LogisticRegression(max_iter=500),\n",
    "    \"Decision Tree\": DecisionTreeClassifier(random_state=42, class_weight='balanced'),\n",
    "    \"AdaBoost\": AdaBoostClassifier(random_state=42),\n",
    "    \"Extra Trees\": ExtraTreesClassifier(n_jobs=-1, random_state=42),\n",
    "    \"XGBoost\": XGBClassifier(n_jobs=-1, random_state=42, use_label_encoder=False, eval_metric='logloss'),\n",
    "    \"LightGBM\": LGBMClassifier(n_jobs=-1, random_state=42)\n",
    "}\n",
    "\n",
    "results = {}\n",
    "\n",
    "for name, model in models.items():\n",
    "    print(f\"Evaluating {name}...\")\n",
    "    pipeline = Pipeline(steps=[('preprocessor', preprocessor), ('classifier', model)])\n",
    "    \n",
    "    scores = cross_validate(\n",
    "        pipeline,\n",
    "        X_sampled,\n",
    "        y_sampled,\n",
    "        cv=3,  # Reduced from 5 to 3 for speed\n",
    "        scoring=['accuracy', 'precision_macro', 'recall_macro', 'f1_macro'],\n",
    "        return_train_score=False,\n",
    "        n_jobs=-1  # Parallel processing\n",
    "    )\n",
    "    \n",
    "    results[name] = {\n",
    "        'accuracy': (scores['test_accuracy'].mean(), scores['test_accuracy'].std()),\n",
    "        'precision': (scores['test_precision_macro'].mean(), scores['test_precision_macro'].std()),\n",
    "        'recall': (scores['test_recall_macro'].mean(), scores['test_recall_macro'].std()),\n",
    "        'f1': (scores['test_f1_macro'].mean(), scores['test_f1_macro'].std())\n",
    "    }\n",
    "\n",
    "results_df = pd.DataFrame(results).T.sort_values(by='f1', ascending=False)\n",
    "results_df[['accuracy_mean', 'accuracy_std']] = pd.DataFrame(results_df['accuracy'].to_list(), index=results_df.index)\n",
    "results_df[['precision_mean', 'precision_std']] = pd.DataFrame(results_df['precision'].to_list(), index=results_df.index)\n",
    "results_df[['recall_mean', 'recall_std']] = pd.DataFrame(results_df['recall'].to_list(), index=results_df.index)\n",
    "results_df[['f1_mean', 'f1_std']] = pd.DataFrame(results_df['f1'].to_list(), index=results_df.index)\n",
    "results_df = results_df.drop(columns=['accuracy', 'precision', 'recall', 'f1'])\n"
   ]
  },
  {
   "cell_type": "code",
   "execution_count": 13,
   "id": "8f375b54",
   "metadata": {},
   "outputs": [
    {
     "name": "stdout",
     "output_type": "stream",
     "text": [
      "                     accuracy_mean  accuracy_std  precision_mean  \\\n",
      "Gradient Boosting          0.89500      0.000809        0.845858   \n",
      "AdaBoost                   0.89370      0.001936        0.844350   \n",
      "LightGBM                   0.89225      0.001314        0.840042   \n",
      "XGBoost                    0.89035      0.002442        0.833478   \n",
      "Random Forest              0.88675      0.001612        0.829563   \n",
      "Logistic Regression        0.88360      0.000797        0.825879   \n",
      "Extra Trees                0.87885      0.000397        0.813317   \n",
      "Decision Tree              0.84380      0.002054        0.745312   \n",
      "\n",
      "                     precision_std  recall_mean  recall_std   f1_mean  \\\n",
      "Gradient Boosting         0.001943     0.790176    0.002044  0.813566   \n",
      "AdaBoost                  0.004743     0.786518    0.002162  0.810600   \n",
      "LightGBM                  0.004458     0.786543    0.001597  0.809068   \n",
      "XGBoost                   0.006640     0.788639    0.002677  0.807990   \n",
      "Random Forest             0.003985     0.777132    0.003807  0.799121   \n",
      "Logistic Regression       0.000754     0.767435    0.002873  0.791354   \n",
      "Extra Trees               0.000373     0.765938    0.003279  0.785957   \n",
      "Decision Tree             0.002975     0.763338    0.004302  0.753557   \n",
      "\n",
      "                       f1_std  \n",
      "Gradient Boosting    0.001555  \n",
      "AdaBoost             0.002854  \n",
      "LightGBM             0.001170  \n",
      "XGBoost              0.003018  \n",
      "Random Forest        0.002951  \n",
      "Logistic Regression  0.002203  \n",
      "Extra Trees          0.002004  \n",
      "Decision Tree        0.003004  \n"
     ]
    }
   ],
   "source": [
    "print(results_df)"
   ]
  },
  {
   "cell_type": "code",
   "execution_count": 19,
   "id": "5c7f89fb",
   "metadata": {},
   "outputs": [
    {
     "name": "stdout",
     "output_type": "stream",
     "text": [
      "Evaluating Random Forest...\n",
      "Evaluating Gradient Boosting...\n",
      "Evaluating Logistic Regression...\n",
      "Evaluating Decision Tree...\n",
      "Evaluating AdaBoost...\n",
      "Evaluating Extra Trees...\n",
      "Evaluating XGBoost...\n",
      "Evaluating LightGBM...\n"
     ]
    },
    {
     "data": {
      "image/png": "[encoded data removed]",
      "text/plain": [
       "<Figure size 1200x800 with 1 Axes>"
      ]
     },
     "metadata": {},
     "output_type": "display_data"
    }
   ],
   "source": [
    "import matplotlib.pyplot as plt\n",
    "import seaborn as sns\n",
    "\n",
    "# Cross-validation results to store in a format suitable for boxplots\n",
    "cv_results = {\n",
    "    'model': [],\n",
    "    'metric': [],\n",
    "    'score': []\n",
    "}\n",
    "\n",
    "# Evaluate each model using cross-validation and store results for boxplots\n",
    "for name, model in models.items():\n",
    "    print(f\"Evaluating {name}...\")\n",
    "    pipeline = Pipeline(steps=[('preprocessor', preprocessor), ('classifier', model)])\n",
    "\n",
    "    # Cross-validation with sampling and parallel processing\n",
    "    scores = cross_validate(\n",
    "        pipeline,\n",
    "        X_sampled,\n",
    "        y_sampled,\n",
    "        cv=3,  # 3-fold CV for speed\n",
    "        scoring=['accuracy', 'precision_macro', 'recall_macro', 'f1_macro'],\n",
    "        return_train_score=False,\n",
    "        n_jobs=-1  # Parallel processing\n",
    "    )\n",
    "\n",
    "    # Collect the scores for each metric\n",
    "    for metric in ['accuracy', 'precision_macro', 'recall_macro', 'f1_macro']:\n",
    "        cv_results['model'].extend([name] * 3)  # 3 folds\n",
    "        cv_results['metric'].extend([metric] * 3)  # 3 folds\n",
    "        cv_results['score'].extend(scores[f'test_{metric}'])  # 3 fold scores\n",
    "\n",
    "# Convert to DataFrame for easier plotting\n",
    "cv_results_df = pd.DataFrame(cv_results)\n",
    "\n",
    "# Set up the figure and axes\n",
    "plt.figure(figsize=(12, 8))\n",
    "\n",
    "# Create the boxplot\n",
    "sns.boxplot(x='metric', y='score', hue='model', data=cv_results_df, palette='Set2')\n",
    "\n",
    "# Set titles and labels\n",
    "plt.title('Model Comparison Across Different Metrics', fontsize=16)\n",
    "plt.xlabel('Metrics', fontsize=12)\n",
    "plt.ylabel('Score', fontsize=12)\n",
    "plt.xticks(rotation=45)\n",
    "plt.legend(title='Model', bbox_to_anchor=(1.05, 1), loc='upper left')\n",
    "\n",
    "# Show the plot\n",
    "plt.tight_layout()\n",
    "plt.show()\n"
   ]
  },
  {
   "cell_type": "code",
   "execution_count": 20,
   "id": "038b7984",
   "metadata": {},
   "outputs": [
    {
     "name": "stdout",
     "output_type": "stream",
     "text": [
      "                     accuracy_mean  accuracy_std  precision_mean  \\\n",
      "Gradient Boosting          0.89500      0.000809        0.845858   \n",
      "AdaBoost                   0.89370      0.001936        0.844350   \n",
      "LightGBM                   0.89225      0.001314        0.840042   \n",
      "XGBoost                    0.89035      0.002442        0.833478   \n",
      "Random Forest              0.88675      0.001612        0.829563   \n",
      "Logistic Regression        0.88360      0.000797        0.825879   \n",
      "Extra Trees                0.87885      0.000397        0.813317   \n",
      "Decision Tree              0.84380      0.002054        0.745312   \n",
      "\n",
      "                     precision_std  recall_mean  recall_std   f1_mean  \\\n",
      "Gradient Boosting         0.001943     0.790176    0.002044  0.813566   \n",
      "AdaBoost                  0.004743     0.786518    0.002162  0.810600   \n",
      "LightGBM                  0.004458     0.786543    0.001597  0.809068   \n",
      "XGBoost                   0.006640     0.788639    0.002677  0.807990   \n",
      "Random Forest             0.003985     0.777132    0.003807  0.799121   \n",
      "Logistic Regression       0.000754     0.767435    0.002873  0.791354   \n",
      "Extra Trees               0.000373     0.765938    0.003279  0.785957   \n",
      "Decision Tree             0.002975     0.763338    0.004302  0.753557   \n",
      "\n",
      "                       f1_std  \n",
      "Gradient Boosting    0.001555  \n",
      "AdaBoost             0.002854  \n",
      "LightGBM             0.001170  \n",
      "XGBoost              0.003018  \n",
      "Random Forest        0.002951  \n",
      "Logistic Regression  0.002203  \n",
      "Extra Trees          0.002004  \n",
      "Decision Tree        0.003004  \n"
     ]
    }
   ],
   "source": [
    "print(results_df)"
   ]
  },
  {
   "cell_type": "code",
   "execution_count": 21,
   "id": "b7162f6e",
   "metadata": {},
   "outputs": [],
   "source": [
    "#Model pipeline\n",
    "model = Pipeline(steps=[\n",
    "    ('preprocessor', preprocessor),\n",
    "    ('classifier', GradientBoostingClassifier(random_state=42),)\n",
    "])"
   ]
  },
  {
   "cell_type": "code",
   "execution_count": 22,
   "id": "96baaeaf",
   "metadata": {},
   "outputs": [
    {
     "name": "stdout",
     "output_type": "stream",
     "text": [
      "              precision    recall  f1-score   support\n",
      "\n",
      "           0       0.92      0.96      0.94     44897\n",
      "           1       0.78      0.61      0.68     10229\n",
      "\n",
      "    accuracy                           0.90     55126\n",
      "   macro avg       0.85      0.78      0.81     55126\n",
      "weighted avg       0.89      0.90      0.89     55126\n",
      "\n"
     ]
    }
   ],
   "source": [
    "#Train model\n",
    "model.fit(X_train, y_train)\n",
    "y_pred = model.predict(X_test)\n",
    "print(classification_report(y_test, y_pred))"
   ]
  },
  {
   "cell_type": "code",
   "execution_count": 23,
   "id": "cd2bae55",
   "metadata": {},
   "outputs": [],
   "source": [
    "#Function to estimate win probability based on character name\n",
    "def estimate_character_win(character):\n",
    "    if character not in average_stats.index:\n",
    "        return f\"Character {character} not found in the dataset.\"\n",
    "    \n",
    "    # Get the average stats for the given character\n",
    "    avg_stats = average_stats.loc[character]\n",
    "    \n",
    "    # Prepare input for model prediction using average stats\n",
    "    input_df = pd.DataFrame([{\n",
    "        'character': character,\n",
    "        'Kill': avg_stats['Kill'],\n",
    "        'Death': avg_stats['Death'],\n",
    "        'Assist': avg_stats['Assist'],\n",
    "        'Dmg_Player': avg_stats['Dmg_Player']\n",
    "    }])\n",
    "\n",
    "    #Predict win probability using the model\n",
    "    model_prob = model.predict_proba(input_df)[0][1]\n",
    "\n",
    "    #Get historical win rate for the character\n",
    "    historical_win_rate = win_rate.loc[character]\n",
    "\n",
    "    #Combine model prediction with historical win rate (weighted average)\n",
    "    combined_prob = 0.7 * model_prob + 0.3 * historical_win_rate  # Adjustable to\n",
    "\n",
    "    #Calculate expected wins in 100 games\n",
    "    expected_wins = combined_prob * 200\n",
    "\n",
    "    return (\n",
    "        f\"Character: {character}\\n\"\n",
    "        f\"Model Win Probability: {model_prob:.2%}\\n\"\n",
    "        f\"Historical Win Rate: {historical_win_rate:.2%}\\n\"\n",
    "        f\"Expected Wins in 200 Games: {expected_wins:.1f}\"\n",
    "    )\n",
    "\n"
   ]
  },
  {
   "cell_type": "code",
   "execution_count": 28,
   "id": "e8f524c8",
   "metadata": {},
   "outputs": [
    {
     "name": "stdout",
     "output_type": "stream",
     "text": [
      "Character: Rio\n",
      "Model Win Probability: 6.83%\n",
      "Historical Win Rate: 20.70%\n",
      "Expected Wins in 200 Games: 22.0\n"
     ]
    }
   ],
   "source": [
    "# Example usage\n",
    "print(estimate_character_win(\"Rio\"))"
   ]
  },
  {
   "cell_type": "code",
   "execution_count": 29,
   "id": "5abb767a",
   "metadata": {},
   "outputs": [
    {
     "data": {
      "text/plain": [
       "win\n",
       "0    4988\n",
       "1    1302\n",
       "Name: count, dtype: int64"
      ]
     },
     "execution_count": 29,
     "metadata": {},
     "output_type": "execute_result"
    }
   ],
   "source": [
    "df[df['character'] == 'Rio']['win'].value_counts()\n"
   ]
  },
  {
   "cell_type": "code",
   "execution_count": 32,
   "id": "8ce6595c",
   "metadata": {},
   "outputs": [
    {
     "name": "stdout",
     "output_type": "stream",
     "text": [
      "                           feature  importance\n",
      "82               remainder__Assist    0.293336\n",
      "83           remainder__Dmg_Player    0.277970\n",
      "80                 remainder__Kill    0.147632\n",
      "81                remainder__Death    0.142650\n",
      "32           char__character_Hisui    0.003293\n",
      "45           char__character_Katja    0.003057\n",
      "77            char__character_Yuki    0.002983\n",
      "20  char__character_Debi_&_Marlene    0.002963\n",
      "8              char__character_Aya    0.002910\n",
      "53            char__character_Luke    0.002814\n"
     ]
    }
   ],
   "source": [
    "importances = model.named_steps['classifier'].feature_importances_\n",
    "feature_names = model.named_steps['preprocessor'].get_feature_names_out()\n",
    "feature_importance_df = pd.DataFrame({\n",
    "    'feature': feature_names,\n",
    "    'importance': importances\n",
    "}).sort_values(by='importance', ascending=False)\n",
    "print(feature_importance_df.head(10))\n"
   ]
  }
 ],
 "metadata": {
  "kernelspec": {
   "display_name": "Python 3",
   "language": "python",
   "name": "python3"
  },
  "language_info": {
   "codemirror_mode": {
    "name": "ipython",
    "version": 3
   },
   "file_extension": ".py",
   "mimetype": "text/x-python",
   "name": "python",
   "nbconvert_exporter": "python",
   "pygments_lexer": "ipython3",
   "version": "3.10.11"
  }
 },
 "nbformat": 4,
 "nbformat_minor": 5
}
