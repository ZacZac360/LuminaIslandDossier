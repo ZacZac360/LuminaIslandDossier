{
 "cells": [
  {
   "cell_type": "code",
   "execution_count": 1,
   "id": "45047118",
   "metadata": {},
   "outputs": [],
   "source": [
    "import pandas as pd\n",
    "from sklearn.model_selection import train_test_split\n",
    "from sklearn.preprocessing import OneHotEncoder\n",
    "from sklearn.compose import ColumnTransformer\n",
    "from sklearn.pipeline import Pipeline\n",
    "from sklearn.ensemble import RandomForestClassifier\n",
    "from sklearn.metrics import classification_report\n",
    "\n",
    "# Load and clean data\n",
    "df = pd.read_csv(\"players_data.csv\", encoding='latin1')"
   ]
  },
  {
   "cell_type": "code",
   "execution_count": 2,
   "id": "90260a11",
   "metadata": {},
   "outputs": [
    {
     "name": "stdout",
     "output_type": "stream",
     "text": [
      "Total rows before dropping: 201001\n",
      "Rows with missing traits: 23496 (11.69%)\n",
      "Rows with all traits filled: 177505 (88.31%)\n"
     ]
    }
   ],
   "source": [
    "# Check how many rows have any missing trait values\n",
    "trait_cols = ['Trait_Main1', 'Trait_Main2', 'Trait_Sub1', 'Trait_Sub2']\n",
    "\n",
    "# Count rows with any missing trait\n",
    "missing_trait_rows = df[trait_cols].isnull().any(axis=1).sum()\n",
    "\n",
    "# Count total rows before dropping\n",
    "total_rows_before = len(df)\n",
    "\n",
    "# Calculate filled vs missing trait ratios\n",
    "print(f\"Total rows before dropping: {total_rows_before}\")\n",
    "print(f\"Rows with missing traits: {missing_trait_rows} ({(missing_trait_rows / total_rows_before):.2%})\")\n",
    "print(f\"Rows with all traits filled: {total_rows_before - missing_trait_rows} ({((total_rows_before - missing_trait_rows) / total_rows_before):.2%})\")\n"
   ]
  },
  {
   "cell_type": "code",
   "execution_count": null,
   "id": "484b527f",
   "metadata": {},
   "outputs": [],
   "source": [
    "#clean dataset\n",
    "df = df.drop_duplicates()\n",
    "df.dropna(subset=['character', 'gameId', 'gameRank'], inplace=True)\n",
    "df.fillna('Unknown', inplace=True)"
   ]
  },
  {
   "cell_type": "code",
   "execution_count": null,
   "id": "16b48c8d",
   "metadata": {},
   "outputs": [],
   "source": [
    "#Define win as gameRank == 1\n",
    "df['win'] = df['gameRank'].apply(lambda x: 1 if x == 1 else 0)\n",
    "\n"
   ]
  },
  {
   "cell_type": "code",
   "execution_count": null,
   "id": "a655ea93",
   "metadata": {},
   "outputs": [],
   "source": [
    "#Calculate historical win rate for each character\n",
    "win_rate = df.groupby('character')['win'].mean()\n",
    "\n"
   ]
  },
  {
   "cell_type": "code",
   "execution_count": null,
   "id": "d4fc9d82",
   "metadata": {},
   "outputs": [],
   "source": [
    "# Calculate average stats for each character (for use when only the character name is provided)\n",
    "average_stats = df.groupby('character')[['Kill', 'Death', 'Assist', 'Dmg_Player']].mean()\n",
    "\n"
   ]
  },
  {
   "cell_type": "code",
   "execution_count": null,
   "id": "23635686",
   "metadata": {},
   "outputs": [],
   "source": [
    "#Features and target\n",
    "X = df[['character', 'Kill', 'Death', 'Assist', 'Dmg_Player']]\n",
    "y = df['win']\n",
    "\n"
   ]
  },
  {
   "cell_type": "code",
   "execution_count": null,
   "id": "e19f0ad3",
   "metadata": {},
   "outputs": [],
   "source": [
    "#Train/test split\n",
    "X_train, X_test, y_train, y_test = train_test_split(X, y, stratify=y, test_size=0.2, random_state=42)\n",
    "\n"
   ]
  },
  {
   "cell_type": "code",
   "execution_count": null,
   "id": "61750b2f",
   "metadata": {},
   "outputs": [],
   "source": [
    "#Preprocessing: one-hot encode character, leave numeric as-is\n",
    "preprocessor = ColumnTransformer(transformers=[\n",
    "    ('char', OneHotEncoder(handle_unknown='ignore'), ['character'])\n",
    "], remainder='passthrough')\n",
    "\n"
   ]
  },
  {
   "cell_type": "code",
   "execution_count": null,
   "id": "b7162f6e",
   "metadata": {},
   "outputs": [],
   "source": [
    "#Model pipeline\n",
    "model = Pipeline(steps=[\n",
    "    ('preprocessor', preprocessor),\n",
    "    ('classifier', RandomForestClassifier(random_state=42, class_weight='balanced'))\n",
    "])"
   ]
  },
  {
   "cell_type": "code",
   "execution_count": null,
   "id": "96baaeaf",
   "metadata": {},
   "outputs": [],
   "source": [
    "#Train model\n",
    "model.fit(X_train, y_train)\n",
    "y_pred = model.predict(X_test)\n",
    "print(classification_report(y_test, y_pred))"
   ]
  },
  {
   "cell_type": "code",
   "execution_count": null,
   "id": "cd2bae55",
   "metadata": {},
   "outputs": [],
   "source": [
    "#Function to estimate win probability based on character name\n",
    "def estimate_character_win(character):\n",
    "    if character not in average_stats.index:\n",
    "        return f\"Character {character} not found in the dataset.\"\n",
    "    \n",
    "    # Get the average stats for the given character\n",
    "    avg_stats = average_stats.loc[character]\n",
    "    \n",
    "    # Prepare input for model prediction using average stats\n",
    "    input_df = pd.DataFrame([{\n",
    "        'character': character,\n",
    "        'Kill': avg_stats['Kill'],\n",
    "        'Death': avg_stats['Death'],\n",
    "        'Assist': avg_stats['Assist'],\n",
    "        'Dmg_Player': avg_stats['Dmg_Player']\n",
    "    }])\n",
    "\n",
    "    #Predict win probability using the model\n",
    "    model_prob = model.predict_proba(input_df)[0][1]\n",
    "\n",
    "    #Get historical win rate for the character\n",
    "    historical_win_rate = win_rate.loc[character]\n",
    "\n",
    "    #Combine model prediction with historical win rate (weighted average)\n",
    "    combined_prob = 0.7 * model_prob + 0.3 * historical_win_rate  # Adjustable to\n",
    "\n",
    "    #Calculate expected wins in 100 games\n",
    "    expected_wins = combined_prob * 200\n",
    "\n",
    "    return (\n",
    "        f\"Character: {character}\\n\"\n",
    "        f\"Model Win Probability: {model_prob:.2%}\\n\"\n",
    "        f\"Historical Win Rate: {historical_win_rate:.2%}\\n\"\n",
    "        f\"Expected Wins in 200 Games: {expected_wins:.1f}\"\n",
    "    )\n",
    "\n"
   ]
  },
  {
   "cell_type": "code",
   "execution_count": null,
   "id": "e8f524c8",
   "metadata": {},
   "outputs": [
    {
     "name": "stdout",
     "output_type": "stream",
     "text": [
      "Character: Katja\n",
      "Model Win Probability: 6.00%\n",
      "Historical Win Rate: 17.11%\n",
      "Expected Wins in 200 Games: 18.7\n"
     ]
    }
   ],
   "source": [
    "# Example usage\n",
    "print(estimate_character_win(\"Katja\"))"
   ]
  }
 ],
 "metadata": {
  "kernelspec": {
   "display_name": "Python 3",
   "language": "python",
   "name": "python3"
  },
  "language_info": {
   "codemirror_mode": {
    "name": "ipython",
    "version": 3
   },
   "file_extension": ".py",
   "mimetype": "text/x-python",
   "name": "python",
   "nbconvert_exporter": "python",
   "pygments_lexer": "ipython3",
   "version": "3.10.11"
  }
 },
 "nbformat": 4,
 "nbformat_minor": 5
}
