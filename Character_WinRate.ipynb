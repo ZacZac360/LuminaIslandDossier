{
 "cells": [
  {
   "cell_type": "code",
   "execution_count": 1,
   "id": "45047118",
   "metadata": {},
   "outputs": [
    {
     "name": "stdout",
     "output_type": "stream",
     "text": [
      "              precision    recall  f1-score   support\n",
      "\n",
      "           0       0.92      0.95      0.93     31934\n",
      "           1       0.72      0.60      0.66      6986\n",
      "\n",
      "    accuracy                           0.89     38920\n",
      "   macro avg       0.82      0.78      0.79     38920\n",
      "weighted avg       0.88      0.89      0.88     38920\n",
      "\n"
     ]
    }
   ],
   "source": [
    "import pandas as pd\n",
    "from sklearn.model_selection import train_test_split\n",
    "from sklearn.preprocessing import OneHotEncoder\n",
    "from sklearn.compose import ColumnTransformer\n",
    "from sklearn.pipeline import Pipeline\n",
    "from sklearn.ensemble import RandomForestClassifier\n",
    "from sklearn.metrics import classification_report\n",
    "\n",
    "# Load and clean data\n",
    "df = pd.read_csv(\"players_data.csv\", encoding='latin1')\n",
    "df = df.drop_duplicates()\n",
    "df.dropna(subset=['character', 'gameId', 'gameRank'], inplace=True)\n",
    "df.fillna('Unknown', inplace=True)\n",
    "\n",
    "# Define win as gameRank == 1\n",
    "df['win'] = df['gameRank'].apply(lambda x: 1 if x == 1 else 0)\n",
    "\n",
    "# Calculate historical win rate for each character\n",
    "win_rate = df.groupby('character')['win'].mean()\n",
    "\n",
    "# Calculate average stats for each character (for use when only the character name is provided)\n",
    "average_stats = df.groupby('character')[['Kill', 'Death', 'Assist', 'Dmg_Player']].mean()\n",
    "\n",
    "# Features and target\n",
    "X = df[['character', 'Kill', 'Death', 'Assist', 'Dmg_Player']]\n",
    "y = df['win']\n",
    "\n",
    "# Train/test split\n",
    "X_train, X_test, y_train, y_test = train_test_split(X, y, stratify=y, test_size=0.2, random_state=42)\n",
    "\n",
    "# Preprocessing: one-hot encode character, leave numeric as-is\n",
    "preprocessor = ColumnTransformer(transformers=[\n",
    "    ('char', OneHotEncoder(handle_unknown='ignore'), ['character'])\n",
    "], remainder='passthrough')\n",
    "\n",
    "# Model pipeline\n",
    "model = Pipeline(steps=[\n",
    "    ('preprocessor', preprocessor),\n",
    "    ('classifier', RandomForestClassifier(random_state=42, class_weight='balanced'))\n",
    "])\n",
    "\n",
    "# Train model\n",
    "model.fit(X_train, y_train)\n",
    "y_pred = model.predict(X_test)\n",
    "print(classification_report(y_test, y_pred))\n"
   ]
  },
  {
   "cell_type": "code",
   "execution_count": 8,
   "id": "cd2bae55",
   "metadata": {},
   "outputs": [],
   "source": [
    "# Function to estimate win probability based on character name\n",
    "def estimate_character_win(character):\n",
    "    if character not in average_stats.index:\n",
    "        return f\"Character {character} not found in the dataset.\"\n",
    "    \n",
    "    # Get the average stats for the given character\n",
    "    avg_stats = average_stats.loc[character]\n",
    "    \n",
    "    # Prepare input for model prediction using average stats\n",
    "    input_df = pd.DataFrame([{\n",
    "        'character': character,\n",
    "        'Kill': avg_stats['Kill'],\n",
    "        'Death': avg_stats['Death'],\n",
    "        'Assist': avg_stats['Assist'],\n",
    "        'Dmg_Player': avg_stats['Dmg_Player']\n",
    "    }])\n",
    "\n",
    "    # Predict win probability using the model\n",
    "    model_prob = model.predict_proba(input_df)[0][1]\n",
    "\n",
    "    # Get historical win rate for the character\n",
    "    historical_win_rate = win_rate.loc[character]\n",
    "\n",
    "    # Combine model prediction with historical win rate (weighted average)\n",
    "    combined_prob = 0.7 * model_prob + 0.3 * historical_win_rate  # You can adjust the weights\n",
    "\n",
    "    # Calculate expected wins in 100 games\n",
    "    expected_wins = combined_prob * 200\n",
    "\n",
    "    return (\n",
    "        f\"Character: {character}\\n\"\n",
    "        f\"Model Win Probability: {model_prob:.2%}\\n\"\n",
    "        f\"Historical Win Rate: {historical_win_rate:.2%}\\n\"\n",
    "        f\"Expected Wins in 200 Games: {expected_wins:.1f}\"\n",
    "    )\n",
    "\n"
   ]
  },
  {
   "cell_type": "code",
   "execution_count": 15,
   "id": "e8f524c8",
   "metadata": {},
   "outputs": [
    {
     "name": "stdout",
     "output_type": "stream",
     "text": [
      "Character: Katja\n",
      "Model Win Probability: 6.00%\n",
      "Historical Win Rate: 17.11%\n",
      "Expected Wins in 200 Games: 18.7\n"
     ]
    }
   ],
   "source": [
    "# Example usage (only input character name)\n",
    "print(estimate_character_win(\"Katja\"))"
   ]
  }
 ],
 "metadata": {
  "kernelspec": {
   "display_name": "Python 3",
   "language": "python",
   "name": "python3"
  },
  "language_info": {
   "codemirror_mode": {
    "name": "ipython",
    "version": 3
   },
   "file_extension": ".py",
   "mimetype": "text/x-python",
   "name": "python",
   "nbconvert_exporter": "python",
   "pygments_lexer": "ipython3",
   "version": "3.10.11"
  }
 },
 "nbformat": 4,
 "nbformat_minor": 5
}
