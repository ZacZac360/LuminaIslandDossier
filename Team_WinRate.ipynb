{
 "cells": [
  {
   "cell_type": "code",
   "execution_count": 54,
   "id": "d0f9394d",
   "metadata": {},
   "outputs": [],
   "source": [
    "import pandas as pd\n",
    "from sklearn.model_selection import train_test_split\n",
    "from sklearn.preprocessing import OneHotEncoder\n",
    "from sklearn.pipeline import Pipeline\n",
    "from sklearn.compose import ColumnTransformer\n",
    "from sklearn.metrics import classification_report\n",
    "from sklearn.pipeline import Pipeline\n",
    "\n",
    "# Define your models\n",
    "from sklearn.model_selection import cross_validate\n",
    "from sklearn.pipeline import Pipeline\n",
    "from sklearn.ensemble import RandomForestClassifier, GradientBoostingClassifier\n",
    "from sklearn.linear_model import LogisticRegression\n",
    "from sklearn.tree import DecisionTreeClassifier\n",
    "from sklearn.svm import SVC\n",
    "from sklearn.neighbors import KNeighborsClassifier\n",
    "from sklearn.ensemble import AdaBoostClassifier, ExtraTreesClassifier\n",
    "from xgboost import XGBClassifier\n",
    "from lightgbm import LGBMClassifier\n",
    "from sklearn.tree import DecisionTreeClassifier\n",
    "from sklearn.ensemble import RandomForestClassifier\n",
    "from sklearn.linear_model import LogisticRegression\n",
    "from sklearn.ensemble import GradientBoostingClassifier\n",
    "from sklearn.ensemble import AdaBoostClassifier\n",
    "from sklearn.ensemble import ExtraTreesClassifier\n",
    "from sklearn.svm import SVC\n",
    "from sklearn.neighbors import KNeighborsClassifier\n",
    "from xgboost import XGBClassifier\n",
    "from lightgbm import LGBMClassifier\n",
    "\n",
    "\n",
    "\n"
   ]
  },
  {
   "cell_type": "code",
   "execution_count": 36,
   "id": "6a62754e",
   "metadata": {},
   "outputs": [],
   "source": [
    "# Load csv\n",
    "df = pd.read_csv(\"players_data.csv\", encoding='latin1')"
   ]
  },
  {
   "cell_type": "code",
   "execution_count": 37,
   "id": "a011bb53",
   "metadata": {},
   "outputs": [],
   "source": [
    "#clean\n",
    "df = df.drop_duplicates()\n",
    "df.dropna(subset=['character', 'gameId', 'gameRank'], inplace=True)\n",
    "df.fillna('Unknown', inplace=True)\n",
    "\n"
   ]
  },
  {
   "cell_type": "code",
   "execution_count": 38,
   "id": "1463a155",
   "metadata": {},
   "outputs": [],
   "source": [
    "# Create team ID\n",
    "df['teamId'] = df['gameId'].astype(str) + \"_\" + df['gameRank'].astype(str)\n",
    "df['win'] = df['gameRank'].apply(lambda x: 1 if x <= 3 else 0)\n",
    "\n"
   ]
  },
  {
   "cell_type": "code",
   "execution_count": 39,
   "id": "c9920c6a",
   "metadata": {},
   "outputs": [
    {
     "name": "stderr",
     "output_type": "stream",
     "text": [
      "C:\\Users\\Zai\\AppData\\Local\\Temp\\ipykernel_6060\\12169012.py:2: DeprecationWarning: DataFrameGroupBy.apply operated on the grouping columns. This behavior is deprecated, and in a future version of pandas the grouping columns will be excluded from the operation. Either pass `include_groups=False` to exclude the groupings or explicitly select the grouping columns after groupby to silence this warning.\n",
      "  team_df = df.groupby('teamId').apply(lambda g: pd.Series({\n"
     ]
    }
   ],
   "source": [
    "# Aggregate team composition and compute team stats\n",
    "team_df = df.groupby('teamId').apply(lambda g: pd.Series({\n",
    "    'gameId': g['gameId'].iloc[0],\n",
    "    'gameRank': g['gameRank'].iloc[0],\n",
    "    'win': g['win'].iloc[0],\n",
    "    'characters': sorted(list(g['character'])),\n",
    "    'kills': g['Kill'].sum(),\n",
    "    'deaths': g['Death'].sum(),\n",
    "    'assists': g['Assist'].sum(),\n",
    "    'damage': g['Dmg_Player'].sum()\n",
    "})).reset_index()"
   ]
  },
  {
   "cell_type": "code",
   "execution_count": 40,
   "id": "0205814c",
   "metadata": {},
   "outputs": [
    {
     "name": "stdout",
     "output_type": "stream",
     "text": [
      "Total teams: 89375\n",
      "Full teams (3 players): 79003 (88.39%)\n",
      "Incomplete teams: 10372 (11.61%)\n"
     ]
    }
   ],
   "source": [
    "team_sizes = df.groupby('teamId')['character'].count()\n",
    "full_teams = (team_sizes == 3).sum()\n",
    "incomplete_teams = (team_sizes != 3).sum()\n",
    "\n",
    "print(f\"Total teams: {len(team_sizes)}\")\n",
    "print(f\"Full teams (3 players): {full_teams} ({(full_teams / len(team_sizes)):.2%})\")\n",
    "print(f\"Incomplete teams: {incomplete_teams} ({(incomplete_teams / len(team_sizes)):.2%})\")\n"
   ]
  },
  {
   "cell_type": "code",
   "execution_count": 41,
   "id": "3d6dd704",
   "metadata": {},
   "outputs": [],
   "source": [
    "# Keep only full teams\n",
    "team_df = team_df[team_df['characters'].apply(len) == 3]"
   ]
  },
  {
   "cell_type": "code",
   "execution_count": 42,
   "id": "0308692d",
   "metadata": {},
   "outputs": [],
   "source": [
    "# Split characters into separate columns\n",
    "team_df[['character1', 'character2', 'character3']] = pd.DataFrame(team_df['characters'].to_list(), index=team_df.index)\n",
    "team_df.drop(columns=['characters', 'teamId', 'gameId', 'gameRank'], inplace=True)"
   ]
  },
  {
   "cell_type": "code",
   "execution_count": 43,
   "id": "5c054e64",
   "metadata": {},
   "outputs": [
    {
     "name": "stdout",
     "output_type": "stream",
     "text": [
      "   win  kills  deaths  assists  damage      character1 character2 character3\n",
      "0    1     13      11       21   62112           Adina     Lenore  Li Dailin\n",
      "1    1      7      12       10   38223           Adela     Alonso      Yumin\n",
      "2    1     11      10       13   46516           Cathy      Katja       Yuki\n",
      "3    0      9       5       15   38821          Alonso     Celine       Hart\n",
      "4    0      8      10       12   57173            Emma    Estelle      Katja\n",
      "5    0      9       3       11   35192  Debi_&_Marlene      Fiora     Nadine\n",
      "6    0      5       4        6   20419         Hyunwoo      Katja       Yuki\n",
      "7    0      5       7        4   20290           Darko       Hart    Hyunwoo\n",
      "8    1     21       0       35   89062         Abigail     Magnus    Shoichi\n",
      "9    1      7      10       10   51343           Adina    Bernice    Hyunwoo\n"
     ]
    }
   ],
   "source": [
    "print(team_df.head(10))"
   ]
  },
  {
   "cell_type": "code",
   "execution_count": 44,
   "id": "e02b7a90",
   "metadata": {},
   "outputs": [],
   "source": [
    "# Define features and target\n",
    "X = team_df[['character1', 'character2', 'character3', 'kills', 'deaths', 'assists', 'damage']]\n",
    "y = team_df['win']"
   ]
  },
  {
   "cell_type": "code",
   "execution_count": 45,
   "id": "3e2cddb3",
   "metadata": {},
   "outputs": [],
   "source": [
    "# Train/test split\n",
    "X_train, X_test, y_train, y_test = train_test_split(X, y, stratify=y, test_size=0.2, random_state=42)"
   ]
  },
  {
   "cell_type": "code",
   "execution_count": 46,
   "id": "ce3ea3d9",
   "metadata": {},
   "outputs": [],
   "source": [
    "# Preprocessing\n",
    "categorical_features = ['character1', 'character2', 'character3']\n",
    "numerical_features = ['kills', 'deaths', 'assists', 'damage']\n",
    "\n",
    "preprocessor = ColumnTransformer(transformers=[\n",
    "    ('cat', OneHotEncoder(handle_unknown='ignore'), categorical_features)\n",
    "], remainder='passthrough')"
   ]
  },
  {
   "cell_type": "code",
   "execution_count": 49,
   "id": "12d6eb55",
   "metadata": {},
   "outputs": [
    {
     "name": "stdout",
     "output_type": "stream",
     "text": [
      "              precision    recall  f1-score   support\n",
      "\n",
      "           0       0.80      0.87      0.83      9520\n",
      "           1       0.78      0.66      0.72      6281\n",
      "\n",
      "    accuracy                           0.79     15801\n",
      "   macro avg       0.79      0.77      0.77     15801\n",
      "weighted avg       0.79      0.79      0.79     15801\n",
      "\n"
     ]
    }
   ],
   "source": [
    "# Model pipeline (RFC)\n",
    "clf = Pipeline(steps=[\n",
    "    ('preprocessor', preprocessor),\n",
    "    ('classifier', RandomForestClassifier(random_state=42, class_weight='balanced'))\n",
    "])\n",
    "clf.fit(X_train, y_train)\n",
    "y_pred = clf.predict(X_test)\n",
    "print(classification_report(y_test, y_pred))"
   ]
  },
  {
   "cell_type": "code",
   "execution_count": 19,
   "id": "8307594a",
   "metadata": {},
   "outputs": [
    {
     "name": "stdout",
     "output_type": "stream",
     "text": [
      "Evaluating Random Forest...\n",
      "Evaluating Gradient Boosting...\n",
      "Evaluating Logistic Regression...\n"
     ]
    },
    {
     "name": "stderr",
     "output_type": "stream",
     "text": [
      "c:\\Users\\Zai\\AppData\\Local\\Programs\\Python\\Python310\\lib\\site-packages\\sklearn\\linear_model\\_logistic.py:469: ConvergenceWarning: lbfgs failed to converge (status=1):\n",
      "STOP: TOTAL NO. of ITERATIONS REACHED LIMIT.\n",
      "\n",
      "Increase the number of iterations (max_iter) or scale the data as shown in:\n",
      "    https://scikit-learn.org/stable/modules/preprocessing.html\n",
      "Please also refer to the documentation for alternative solver options:\n",
      "    https://scikit-learn.org/stable/modules/linear_model.html#logistic-regression\n",
      "  n_iter_i = _check_optimize_result(\n",
      "c:\\Users\\Zai\\AppData\\Local\\Programs\\Python\\Python310\\lib\\site-packages\\sklearn\\linear_model\\_logistic.py:469: ConvergenceWarning: lbfgs failed to converge (status=1):\n",
      "STOP: TOTAL NO. of ITERATIONS REACHED LIMIT.\n",
      "\n",
      "Increase the number of iterations (max_iter) or scale the data as shown in:\n",
      "    https://scikit-learn.org/stable/modules/preprocessing.html\n",
      "Please also refer to the documentation for alternative solver options:\n",
      "    https://scikit-learn.org/stable/modules/linear_model.html#logistic-regression\n",
      "  n_iter_i = _check_optimize_result(\n",
      "c:\\Users\\Zai\\AppData\\Local\\Programs\\Python\\Python310\\lib\\site-packages\\sklearn\\linear_model\\_logistic.py:469: ConvergenceWarning: lbfgs failed to converge (status=1):\n",
      "STOP: TOTAL NO. of ITERATIONS REACHED LIMIT.\n",
      "\n",
      "Increase the number of iterations (max_iter) or scale the data as shown in:\n",
      "    https://scikit-learn.org/stable/modules/preprocessing.html\n",
      "Please also refer to the documentation for alternative solver options:\n",
      "    https://scikit-learn.org/stable/modules/linear_model.html#logistic-regression\n",
      "  n_iter_i = _check_optimize_result(\n",
      "c:\\Users\\Zai\\AppData\\Local\\Programs\\Python\\Python310\\lib\\site-packages\\sklearn\\linear_model\\_logistic.py:469: ConvergenceWarning: lbfgs failed to converge (status=1):\n",
      "STOP: TOTAL NO. of ITERATIONS REACHED LIMIT.\n",
      "\n",
      "Increase the number of iterations (max_iter) or scale the data as shown in:\n",
      "    https://scikit-learn.org/stable/modules/preprocessing.html\n",
      "Please also refer to the documentation for alternative solver options:\n",
      "    https://scikit-learn.org/stable/modules/linear_model.html#logistic-regression\n",
      "  n_iter_i = _check_optimize_result(\n",
      "c:\\Users\\Zai\\AppData\\Local\\Programs\\Python\\Python310\\lib\\site-packages\\sklearn\\linear_model\\_logistic.py:469: ConvergenceWarning: lbfgs failed to converge (status=1):\n",
      "STOP: TOTAL NO. of ITERATIONS REACHED LIMIT.\n",
      "\n",
      "Increase the number of iterations (max_iter) or scale the data as shown in:\n",
      "    https://scikit-learn.org/stable/modules/preprocessing.html\n",
      "Please also refer to the documentation for alternative solver options:\n",
      "    https://scikit-learn.org/stable/modules/linear_model.html#logistic-regression\n",
      "  n_iter_i = _check_optimize_result(\n"
     ]
    },
    {
     "name": "stdout",
     "output_type": "stream",
     "text": [
      "Evaluating Decision Tree...\n",
      "Evaluating SVC...\n",
      "Evaluating KNN...\n",
      "Evaluating AdaBoost...\n"
     ]
    },
    {
     "name": "stderr",
     "output_type": "stream",
     "text": [
      "c:\\Users\\Zai\\AppData\\Local\\Programs\\Python\\Python310\\lib\\site-packages\\sklearn\\ensemble\\_weight_boosting.py:527: FutureWarning: The SAMME.R algorithm (the default) is deprecated and will be removed in 1.6. Use the SAMME algorithm to circumvent this warning.\n",
      "  warnings.warn(\n",
      "c:\\Users\\Zai\\AppData\\Local\\Programs\\Python\\Python310\\lib\\site-packages\\sklearn\\ensemble\\_weight_boosting.py:527: FutureWarning: The SAMME.R algorithm (the default) is deprecated and will be removed in 1.6. Use the SAMME algorithm to circumvent this warning.\n",
      "  warnings.warn(\n",
      "c:\\Users\\Zai\\AppData\\Local\\Programs\\Python\\Python310\\lib\\site-packages\\sklearn\\ensemble\\_weight_boosting.py:527: FutureWarning: The SAMME.R algorithm (the default) is deprecated and will be removed in 1.6. Use the SAMME algorithm to circumvent this warning.\n",
      "  warnings.warn(\n",
      "c:\\Users\\Zai\\AppData\\Local\\Programs\\Python\\Python310\\lib\\site-packages\\sklearn\\ensemble\\_weight_boosting.py:527: FutureWarning: The SAMME.R algorithm (the default) is deprecated and will be removed in 1.6. Use the SAMME algorithm to circumvent this warning.\n",
      "  warnings.warn(\n",
      "c:\\Users\\Zai\\AppData\\Local\\Programs\\Python\\Python310\\lib\\site-packages\\sklearn\\ensemble\\_weight_boosting.py:527: FutureWarning: The SAMME.R algorithm (the default) is deprecated and will be removed in 1.6. Use the SAMME algorithm to circumvent this warning.\n",
      "  warnings.warn(\n"
     ]
    },
    {
     "name": "stdout",
     "output_type": "stream",
     "text": [
      "Evaluating Extra Trees...\n",
      "Evaluating XGBoost...\n"
     ]
    },
    {
     "name": "stderr",
     "output_type": "stream",
     "text": [
      "c:\\Users\\Zai\\AppData\\Local\\Programs\\Python\\Python310\\lib\\site-packages\\xgboost\\training.py:183: UserWarning: [00:49:24] WARNING: C:\\actions-runner\\_work\\xgboost\\xgboost\\src\\learner.cc:738: \n",
      "Parameters: { \"use_label_encoder\" } are not used.\n",
      "\n",
      "  bst.update(dtrain, iteration=i, fobj=obj)\n",
      "c:\\Users\\Zai\\AppData\\Local\\Programs\\Python\\Python310\\lib\\site-packages\\xgboost\\training.py:183: UserWarning: [00:49:25] WARNING: C:\\actions-runner\\_work\\xgboost\\xgboost\\src\\learner.cc:738: \n",
      "Parameters: { \"use_label_encoder\" } are not used.\n",
      "\n",
      "  bst.update(dtrain, iteration=i, fobj=obj)\n",
      "c:\\Users\\Zai\\AppData\\Local\\Programs\\Python\\Python310\\lib\\site-packages\\xgboost\\training.py:183: UserWarning: [00:49:25] WARNING: C:\\actions-runner\\_work\\xgboost\\xgboost\\src\\learner.cc:738: \n",
      "Parameters: { \"use_label_encoder\" } are not used.\n",
      "\n",
      "  bst.update(dtrain, iteration=i, fobj=obj)\n",
      "c:\\Users\\Zai\\AppData\\Local\\Programs\\Python\\Python310\\lib\\site-packages\\xgboost\\training.py:183: UserWarning: [00:49:26] WARNING: C:\\actions-runner\\_work\\xgboost\\xgboost\\src\\learner.cc:738: \n",
      "Parameters: { \"use_label_encoder\" } are not used.\n",
      "\n",
      "  bst.update(dtrain, iteration=i, fobj=obj)\n",
      "c:\\Users\\Zai\\AppData\\Local\\Programs\\Python\\Python310\\lib\\site-packages\\xgboost\\training.py:183: UserWarning: [00:49:26] WARNING: C:\\actions-runner\\_work\\xgboost\\xgboost\\src\\learner.cc:738: \n",
      "Parameters: { \"use_label_encoder\" } are not used.\n",
      "\n",
      "  bst.update(dtrain, iteration=i, fobj=obj)\n"
     ]
    },
    {
     "name": "stdout",
     "output_type": "stream",
     "text": [
      "Evaluating LightGBM...\n",
      "[LightGBM] [Info] Number of positive: 20098, number of negative: 30463\n",
      "[LightGBM] [Info] Auto-choosing col-wise multi-threading, the overhead of testing was 0.001638 seconds.\n",
      "You can set `force_col_wise=true` to remove the overhead.\n",
      "[LightGBM] [Info] Total Bins 792\n",
      "[LightGBM] [Info] Number of data points in the train set: 50561, number of used features: 217\n",
      "[LightGBM] [Info] [binary:BoostFromScore]: pavg=0.397500 -> initscore=-0.415893\n",
      "[LightGBM] [Info] Start training from score -0.415893\n",
      "[LightGBM] [Info] Number of positive: 20098, number of negative: 30463\n",
      "[LightGBM] [Info] Auto-choosing col-wise multi-threading, the overhead of testing was 0.001578 seconds.\n",
      "You can set `force_col_wise=true` to remove the overhead.\n",
      "[LightGBM] [Info] Total Bins 796\n",
      "[LightGBM] [Info] Number of data points in the train set: 50561, number of used features: 218\n",
      "[LightGBM] [Info] [binary:BoostFromScore]: pavg=0.397500 -> initscore=-0.415893\n",
      "[LightGBM] [Info] Start training from score -0.415893\n",
      "[LightGBM] [Info] Number of positive: 20098, number of negative: 30464\n",
      "[LightGBM] [Info] Auto-choosing col-wise multi-threading, the overhead of testing was 0.001507 seconds.\n",
      "You can set `force_col_wise=true` to remove the overhead.\n",
      "[LightGBM] [Info] Total Bins 797\n",
      "[LightGBM] [Info] Number of data points in the train set: 50562, number of used features: 219\n",
      "[LightGBM] [Info] [binary:BoostFromScore]: pavg=0.397492 -> initscore=-0.415925\n",
      "[LightGBM] [Info] Start training from score -0.415925\n",
      "[LightGBM] [Info] Number of positive: 20099, number of negative: 30463\n",
      "[LightGBM] [Info] Auto-choosing col-wise multi-threading, the overhead of testing was 0.001505 seconds.\n",
      "You can set `force_col_wise=true` to remove the overhead.\n",
      "[LightGBM] [Info] Total Bins 795\n",
      "[LightGBM] [Info] Number of data points in the train set: 50562, number of used features: 218\n",
      "[LightGBM] [Info] [binary:BoostFromScore]: pavg=0.397512 -> initscore=-0.415843\n",
      "[LightGBM] [Info] Start training from score -0.415843\n",
      "[LightGBM] [Info] Number of positive: 20099, number of negative: 30463\n",
      "[LightGBM] [Info] Auto-choosing row-wise multi-threading, the overhead of testing was 0.000583 seconds.\n",
      "You can set `force_row_wise=true` to remove the overhead.\n",
      "And if memory is not enough, you can set `force_col_wise=true`.\n",
      "[LightGBM] [Info] Total Bins 795\n",
      "[LightGBM] [Info] Number of data points in the train set: 50562, number of used features: 218\n",
      "[LightGBM] [Info] [binary:BoostFromScore]: pavg=0.397512 -> initscore=-0.415843\n",
      "[LightGBM] [Info] Start training from score -0.415843\n"
     ]
    }
   ],
   "source": [
    "models = {\n",
    "    \"Random Forest\": RandomForestClassifier(random_state=42, class_weight='balanced'),\n",
    "    \"Gradient Boosting\": GradientBoostingClassifier(random_state=42),\n",
    "    \"Logistic Regression\": LogisticRegression(max_iter=1000),\n",
    "    \"Decision Tree\": DecisionTreeClassifier(random_state=42, class_weight='balanced'),\n",
    "    \"SVC\": SVC(probability=True),\n",
    "    \"KNN\": KNeighborsClassifier(),\n",
    "    \"AdaBoost\": AdaBoostClassifier(random_state=42),\n",
    "    \"Extra Trees\": ExtraTreesClassifier(random_state=42),\n",
    "    \"XGBoost\": XGBClassifier(random_state=42, use_label_encoder=False, eval_metric='logloss'),\n",
    "    \"LightGBM\": LGBMClassifier(random_state=42)\n",
    "}\n",
    "\n",
    "results = {}\n",
    "\n",
    "for name, model in models.items():\n",
    "    print(f\"Evaluating {name}...\")\n",
    "    pipeline = Pipeline(steps=[('preprocessor', preprocessor), ('classifier', model)])\n",
    "    \n",
    "    scores = cross_validate(\n",
    "        pipeline,\n",
    "        X_train,\n",
    "        y_train,\n",
    "        cv=5,\n",
    "        scoring=['accuracy', 'precision_macro', 'recall_macro', 'f1_macro'],\n",
    "        return_train_score=False\n",
    "    )\n",
    "    \n",
    "    results[name] = {\n",
    "        'accuracy': (scores['test_accuracy'].mean(), scores['test_accuracy'].std()),\n",
    "        'precision': (scores['test_precision_macro'].mean(), scores['test_precision_macro'].std()),\n",
    "        'recall': (scores['test_recall_macro'].mean(), scores['test_recall_macro'].std()),\n",
    "        'f1': (scores['test_f1_macro'].mean(), scores['test_f1_macro'].std())\n",
    "    }\n",
    "\n",
    "# Convert to DataFrame for easy viewing\n",
    "import pandas as pd\n",
    "results_df = pd.DataFrame(results).T.sort_values(by='f1', ascending=False)\n",
    "\n",
    "# Split means and standard deviations into separate columns\n",
    "results_df[['accuracy_mean', 'accuracy_std']] = pd.DataFrame(results_df['accuracy'].to_list(), index=results_df.index)\n",
    "results_df[['precision_mean', 'precision_std']] = pd.DataFrame(results_df['precision'].to_list(), index=results_df.index)\n",
    "results_df[['recall_mean', 'recall_std']] = pd.DataFrame(results_df['recall'].to_list(), index=results_df.index)\n",
    "results_df[['f1_mean', 'f1_std']] = pd.DataFrame(results_df['f1'].to_list(), index=results_df.index)\n",
    "\n",
    "# Drop the original columns containing tuples\n",
    "results_df = results_df.drop(columns=['accuracy', 'precision', 'recall', 'f1'])"
   ]
  },
  {
   "cell_type": "code",
   "execution_count": 1,
   "id": "96f13cbf",
   "metadata": {},
   "outputs": [
    {
     "ename": "NameError",
     "evalue": "name 'results_df' is not defined",
     "output_type": "error",
     "traceback": [
      "\u001b[1;31m---------------------------------------------------------------------------\u001b[0m",
      "\u001b[1;31mNameError\u001b[0m                                 Traceback (most recent call last)",
      "Cell \u001b[1;32mIn[1], line 1\u001b[0m\n\u001b[1;32m----> 1\u001b[0m \u001b[38;5;28mprint\u001b[39m(\u001b[43mresults_df\u001b[49m)\n",
      "\u001b[1;31mNameError\u001b[0m: name 'results_df' is not defined"
     ]
    }
   ],
   "source": [
    "print(results_df)"
   ]
  },
  {
   "cell_type": "code",
   "execution_count": 15,
   "id": "bedd94af",
   "metadata": {},
   "outputs": [
    {
     "name": "stdout",
     "output_type": "stream",
     "text": [
      "Evaluating Random Forest...\n",
      "Evaluating Gradient Boosting...\n",
      "Evaluating Logistic Regression...\n",
      "Evaluating Decision Tree...\n",
      "Evaluating AdaBoost...\n",
      "Evaluating Extra Trees...\n",
      "Evaluating XGBoost...\n",
      "Evaluating LightGBM...\n"
     ]
    }
   ],
   "source": [
    "# Sample a portion of the training data to speed up evaluation\n",
    "SAMPLE_SIZE = 20000  # adjust as needed\n",
    "X_sampled = X_train.sample(n=SAMPLE_SIZE, random_state=42)\n",
    "y_sampled = y_train.loc[X_sampled.index]\n",
    "\n",
    "#lighter\n",
    "models = {\n",
    "    \"Random Forest\": RandomForestClassifier(n_jobs=-1, random_state=42, class_weight='balanced'),\n",
    "    \"Gradient Boosting\": GradientBoostingClassifier(random_state=42),\n",
    "    \"Logistic Regression\": LogisticRegression(max_iter=500),\n",
    "    \"Decision Tree\": DecisionTreeClassifier(random_state=42, class_weight='balanced'),\n",
    "    \"AdaBoost\": AdaBoostClassifier(random_state=42),\n",
    "    \"Extra Trees\": ExtraTreesClassifier(n_jobs=-1, random_state=42),\n",
    "    \"XGBoost\": XGBClassifier(n_jobs=-1, random_state=42, use_label_encoder=False, eval_metric='logloss'),\n",
    "    \"LightGBM\": LGBMClassifier(n_jobs=-1, random_state=42)\n",
    "}\n",
    "\n",
    "results = {}\n",
    "\n",
    "for name, model in models.items():\n",
    "    print(f\"Evaluating {name}...\")\n",
    "    pipeline = Pipeline(steps=[('preprocessor', preprocessor), ('classifier', model)])\n",
    "    \n",
    "    scores = cross_validate(\n",
    "        pipeline,\n",
    "        X_sampled,\n",
    "        y_sampled,\n",
    "        cv=3,  # Reduced from 5 to 3 for speed\n",
    "        scoring=['accuracy', 'precision_macro', 'recall_macro', 'f1_macro'],\n",
    "        return_train_score=False,\n",
    "        n_jobs=-1  # Parallel processing\n",
    "    )\n",
    "    \n",
    "    results[name] = {\n",
    "        'accuracy': (scores['test_accuracy'].mean(), scores['test_accuracy'].std()),\n",
    "        'precision': (scores['test_precision_macro'].mean(), scores['test_precision_macro'].std()),\n",
    "        'recall': (scores['test_recall_macro'].mean(), scores['test_recall_macro'].std()),\n",
    "        'f1': (scores['test_f1_macro'].mean(), scores['test_f1_macro'].std())\n",
    "    }\n",
    "\n",
    "results_df = pd.DataFrame(results).T.sort_values(by='f1', ascending=False)\n",
    "results_df[['accuracy_mean', 'accuracy_std']] = pd.DataFrame(results_df['accuracy'].to_list(), index=results_df.index)\n",
    "results_df[['precision_mean', 'precision_std']] = pd.DataFrame(results_df['precision'].to_list(), index=results_df.index)\n",
    "results_df[['recall_mean', 'recall_std']] = pd.DataFrame(results_df['recall'].to_list(), index=results_df.index)\n",
    "results_df[['f1_mean', 'f1_std']] = pd.DataFrame(results_df['f1'].to_list(), index=results_df.index)\n",
    "results_df = results_df.drop(columns=['accuracy', 'precision', 'recall', 'f1'])\n"
   ]
  },
  {
   "cell_type": "code",
   "execution_count": 16,
   "id": "64151ad7",
   "metadata": {},
   "outputs": [
    {
     "name": "stdout",
     "output_type": "stream",
     "text": [
      "                     accuracy_mean  accuracy_std  precision_mean  \\\n",
      "AdaBoost                   0.79100      0.001409        0.784890   \n",
      "Gradient Boosting          0.79275      0.001193        0.789767   \n",
      "LightGBM                   0.78925      0.000519        0.785396   \n",
      "Logistic Regression        0.78805      0.003036        0.782446   \n",
      "Random Forest              0.78800      0.002612        0.782697   \n",
      "XGBoost                    0.78345      0.001978        0.777861   \n",
      "Extra Trees                0.77640      0.002959        0.770676   \n",
      "Decision Tree              0.71825      0.006300        0.704765   \n",
      "\n",
      "                     precision_std  recall_mean  recall_std   f1_mean  \\\n",
      "AdaBoost                  0.001448     0.769931    0.002041  0.775323   \n",
      "Gradient Boosting         0.001483     0.768048    0.001291  0.775056   \n",
      "LightGBM                  0.001129     0.764853    0.000609  0.771547   \n",
      "Logistic Regression       0.003574     0.765619    0.002925  0.771459   \n",
      "Random Forest             0.003175     0.765168    0.002588  0.771167   \n",
      "XGBoost                   0.001703     0.760019    0.002809  0.766024   \n",
      "Extra Trees               0.003105     0.751631    0.003676  0.757776   \n",
      "Decision Tree             0.006265     0.706003    0.005193  0.705314   \n",
      "\n",
      "                       f1_std  \n",
      "AdaBoost             0.001784  \n",
      "Gradient Boosting    0.001293  \n",
      "LightGBM             0.000441  \n",
      "Logistic Regression  0.003116  \n",
      "Random Forest        0.002693  \n",
      "XGBoost              0.002578  \n",
      "Extra Trees          0.003535  \n",
      "Decision Tree        0.005783  \n"
     ]
    }
   ],
   "source": [
    "print(results_df)"
   ]
  },
  {
   "cell_type": "code",
   "execution_count": 53,
   "id": "1f9a392a",
   "metadata": {},
   "outputs": [
    {
     "name": "stdout",
     "output_type": "stream",
     "text": [
      "Evaluating Random Forest...\n",
      "Evaluating Gradient Boosting...\n",
      "Evaluating Logistic Regression...\n",
      "Evaluating Decision Tree...\n",
      "Evaluating AdaBoost...\n",
      "Evaluating Extra Trees...\n",
      "Evaluating XGBoost...\n",
      "Evaluating LightGBM...\n"
     ]
    },
    {
     "data": {
      "image/png": "[encoded data removed]",
      "text/plain": [
       "<Figure size 1200x800 with 1 Axes>"
      ]
     },
     "metadata": {},
     "output_type": "display_data"
    }
   ],
   "source": [
    "import matplotlib.pyplot as plt\n",
    "import seaborn as sns\n",
    "\n",
    "# Cross-validation results to store in a format suitable for boxplots\n",
    "cv_results = {\n",
    "    'model': [],\n",
    "    'metric': [],\n",
    "    'score': []\n",
    "}\n",
    "\n",
    "# Evaluate each model using cross-validation and store results for boxplots\n",
    "for name, model in models.items():\n",
    "    print(f\"Evaluating {name}...\")\n",
    "    pipeline = Pipeline(steps=[('preprocessor', preprocessor), ('classifier', model)])\n",
    "\n",
    "    # Cross-validation with sampling and parallel processing\n",
    "    scores = cross_validate(\n",
    "        pipeline,\n",
    "        X_sampled,\n",
    "        y_sampled,\n",
    "        cv=3,  # 3-fold CV for speed\n",
    "        scoring=['accuracy', 'precision_macro', 'recall_macro', 'f1_macro'],\n",
    "        return_train_score=False,\n",
    "        n_jobs=-1  # Parallel processing\n",
    "    )\n",
    "\n",
    "    # Collect the scores for each metric\n",
    "    for metric in ['accuracy', 'precision_macro', 'recall_macro', 'f1_macro']:\n",
    "        cv_results['model'].extend([name] * 3)  # 3 folds\n",
    "        cv_results['metric'].extend([metric] * 3)  # 3 folds\n",
    "        cv_results['score'].extend(scores[f'test_{metric}'])  # 3 fold scores\n",
    "\n",
    "# Convert to DataFrame for easier plotting\n",
    "cv_results_df = pd.DataFrame(cv_results)\n",
    "\n",
    "# Set up the figure and axes\n",
    "plt.figure(figsize=(12, 8))\n",
    "\n",
    "# Create the boxplot\n",
    "sns.boxplot(x='metric', y='score', hue='model', data=cv_results_df, palette='Set2')\n",
    "\n",
    "# Set titles and labels\n",
    "plt.title('Model Comparison Across Different Metrics', fontsize=16)\n",
    "plt.xlabel('Metrics', fontsize=12)\n",
    "plt.ylabel('Score', fontsize=12)\n",
    "plt.xticks(rotation=45)\n",
    "plt.legend(title='Model', bbox_to_anchor=(1.05, 1), loc='upper left')\n",
    "\n",
    "# Show the plot\n",
    "plt.tight_layout()\n",
    "plt.show()\n"
   ]
  },
  {
   "cell_type": "code",
   "execution_count": 48,
   "id": "6cb6249c",
   "metadata": {},
   "outputs": [
    {
     "name": "stderr",
     "output_type": "stream",
     "text": [
      "c:\\Users\\Zai\\AppData\\Local\\Programs\\Python\\Python310\\lib\\site-packages\\sklearn\\ensemble\\_weight_boosting.py:527: FutureWarning: The SAMME.R algorithm (the default) is deprecated and will be removed in 1.6. Use the SAMME algorithm to circumvent this warning.\n",
      "  warnings.warn(\n"
     ]
    },
    {
     "name": "stdout",
     "output_type": "stream",
     "text": [
      "              precision    recall  f1-score   support\n",
      "\n",
      "           0       0.81      0.87      0.84      9520\n",
      "           1       0.77      0.68      0.73      6281\n",
      "\n",
      "    accuracy                           0.79     15801\n",
      "   macro avg       0.79      0.78      0.78     15801\n",
      "weighted avg       0.79      0.79      0.79     15801\n",
      "\n"
     ]
    }
   ],
   "source": [
    "# Model pipeline (AdaBoost)\n",
    "clf = Pipeline(steps=[\n",
    "    ('preprocessor', preprocessor),\n",
    "    ('classifier', AdaBoostClassifier(random_state=42))\n",
    "])\n",
    "\n",
    "# Fit the model\n",
    "clf.fit(X_train, y_train)\n",
    "\n",
    "# Predict and evaluate\n",
    "y_pred = clf.predict(X_test)\n",
    "print(classification_report(y_test, y_pred))\n"
   ]
  },
  {
   "cell_type": "code",
   "execution_count": 55,
   "id": "ce4a721d",
   "metadata": {},
   "outputs": [],
   "source": [
    "# Prediction function\n",
    "def predict_win_rate(char1, char2, char3, kills=0, deaths=0, assists=0, damage=0):\n",
    "    chars = sorted([char1, char2, char3])\n",
    "    input_df = pd.DataFrame([{\n",
    "        'character1': chars[0],\n",
    "        'character2': chars[1],\n",
    "        'character3': chars[2],\n",
    "        'kills': kills,\n",
    "        'deaths': deaths,\n",
    "        'assists': assists,\n",
    "        'damage': damage\n",
    "    }])\n",
    "    prob = clf.predict_proba(input_df)[0][1]\n",
    "    return f\"Estimated Win Probability (Top 3): {prob:.2%}\""
   ]
  },
  {
   "cell_type": "code",
   "execution_count": 57,
   "id": "9b8a6f57",
   "metadata": {},
   "outputs": [
    {
     "name": "stdout",
     "output_type": "stream",
     "text": [
      "Estimated Win Probability (Top 3): 37.00%\n"
     ]
    }
   ],
   "source": [
    "# Example usage\n",
    "print(predict_win_rate(\"Adina\", \"Lenore\", \"Li Dailin\"))"
   ]
  }
 ],
 "metadata": {
  "kernelspec": {
   "display_name": "Python 3",
   "language": "python",
   "name": "python3"
  },
  "language_info": {
   "codemirror_mode": {
    "name": "ipython",
    "version": 3
   },
   "file_extension": ".py",
   "mimetype": "text/x-python",
   "name": "python",
   "nbconvert_exporter": "python",
   "pygments_lexer": "ipython3",
   "version": "3.10.11"
  }
 },
 "nbformat": 4,
 "nbformat_minor": 5
}
