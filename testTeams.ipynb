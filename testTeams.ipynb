{
 "cells": [
  {
   "cell_type": "code",
   "execution_count": 37,
   "id": "cca1540b",
   "metadata": {},
   "outputs": [
    {
     "name": "stdout",
     "output_type": "stream",
     "text": [
      "\n",
      "🤖 ML Recommendation: Top 4 Teammates for Abigail\n",
      "               Kills  Assists  Deaths  Dmg_Player\n",
      "CharacterName                                    \n",
      "Bernice         11.0      5.0     2.0     32095.0\n",
      "Katja           11.0      4.0     4.0     28748.0\n",
      "Vanya            2.0     12.0     2.0     23776.0\n",
      "Eleven           3.0     16.0     1.0     10007.0\n"
     ]
    }
   ],
   "source": [
    "import pandas as pd\n",
    "\n",
    "# Load your match data\n",
    "df = pd.read_csv(\"match_history.csv\")\n",
    "\n",
    "# Choose your character\n",
    "my_name = \"Abigail\"\n",
    "\n",
    "# Ensure numeric fields are properly typed\n",
    "numeric_cols = [\"Kills\", \"Assists\", \"Deaths\", \"Dmg_Player\", \"GameID\", \"Place\"]\n",
    "df[numeric_cols] = df[numeric_cols].apply(pd.to_numeric, errors=\"coerce\")\n",
    "\n",
    "# Step 1: Get all matches where you played\n",
    "my_matches = df[df[\"CharacterName\"] == my_name]\n",
    "my_game_ids = my_matches[\"GameID\"].unique()\n",
    "\n",
    "# Step 2: For each game, find teammates based on GameID + Place\n",
    "teamups = []\n",
    "\n",
    "for game_id in my_game_ids:\n",
    "    game_data = df[df[\"GameID\"] == game_id]\n",
    "    \n",
    "    my_row = game_data[game_data[\"CharacterName\"] == my_name]\n",
    "    if my_row.empty:\n",
    "        continue\n",
    "    \n",
    "    my_place = my_row.iloc[0][\"Place\"]\n",
    "\n",
    "    # Same match, same team, not me\n",
    "    teammates = game_data[\n",
    "        (game_data[\"Place\"] == my_place) &\n",
    "        (game_data[\"CharacterName\"] != my_name)\n",
    "    ].copy()\n",
    "\n",
    "    if not teammates.empty:\n",
    "        teammates[\"GameID\"] = game_id  # Keep track of match\n",
    "        teamups.append(teammates)\n",
    "\n",
    "# Step 3: Combine and analyze teammates\n",
    "if not teamups:\n",
    "    print(\"⚠️ No teammates found using GameID + Place logic.\")\n",
    "else:\n",
    "    df_teamups = pd.concat(teamups)\n",
    "\n",
    "    # Group by teammate and calculate average stats\n",
    "    teammate_stats = df_teamups.groupby(\"CharacterName\").agg({\n",
    "        \"Kills\": \"mean\",\n",
    "        \"Assists\": \"mean\",\n",
    "        \"Deaths\": \"mean\",\n",
    "        \"Dmg_Player\": \"mean\",\n",
    "    })\n",
    "\n",
    "    # Sort: most games together, then damage\n",
    "    teammate_stats = teammate_stats.sort_values(\n",
    "        by=[\"Dmg_Player\"], ascending=[False]\n",
    "    )\n",
    "\n",
    "    # Output\n",
    "    if teammate_stats.empty:\n",
    "        print(\"⚠️ No teammates meet the minimum match threshold.\")\n",
    "    else:\n",
    "        print(f\"\\n🤖 ML Recommendation: Top 4 Teammates for {my_name}\")\n",
    "        print(teammate_stats.head(4))\n",
    "\n"
   ]
  }
 ],
 "metadata": {
  "kernelspec": {
   "display_name": "Python 3",
   "language": "python",
   "name": "python3"
  },
  "language_info": {
   "codemirror_mode": {
    "name": "ipython",
    "version": 3
   },
   "file_extension": ".py",
   "mimetype": "text/x-python",
   "name": "python",
   "nbconvert_exporter": "python",
   "pygments_lexer": "ipython3",
   "version": "3.10.11"
  }
 },
 "nbformat": 4,
 "nbformat_minor": 5
}
